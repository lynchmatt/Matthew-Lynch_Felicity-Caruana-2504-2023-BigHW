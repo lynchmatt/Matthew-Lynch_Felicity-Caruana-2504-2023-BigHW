{
 "cells": [
  {
   "cell_type": "markdown",
   "metadata": {},
   "source": [
    "### MATH2504 S2, 2023, BigHW Submission \n",
    "### Submission form II of IV "
   ]
  },
  {
   "cell_type": "markdown",
   "metadata": {},
   "source": [
    "Student #1 name:\n",
    "\n",
    "Student #1 ID:\n",
    "\n",
    "Student #2 name:\n",
    "\n",
    "Student #2 ID:\n",
    "\n",
    "GitHub repo: "
   ]
  },
  {
   "cell_type": "markdown",
   "metadata": {},
   "source": [
    "---\n",
    "\n",
    "**Note: It is expected that this notebook be runnable in the sense that the marker can select \"Restart & Run All\" and all code cells of solutions will execute. This requires not to have name clashes between solutions.**\n",
    "\n",
    "---"
   ]
  },
  {
   "cell_type": "markdown",
   "metadata": {},
   "source": [
    "# Solution to [Question 5](https://courses.smp.uq.edu.au/MATH2504/2023/assessment_html/bighw.html#q5)"
   ]
  },
  {
   "cell_type": "markdown",
   "metadata": {},
   "source": [
    "## 5a:"
   ]
  },
  {
   "cell_type": "code",
   "execution_count": null,
   "metadata": {},
   "outputs": [],
   "source": [
    "### Answer 5a here (in place of this comment)"
   ]
  },
  {
   "cell_type": "markdown",
   "metadata": {},
   "source": [
    "## 5b:"
   ]
  },
  {
   "cell_type": "code",
   "execution_count": null,
   "metadata": {},
   "outputs": [],
   "source": [
    "### Answer 5b here (in place of this comment)"
   ]
  },
  {
   "cell_type": "markdown",
   "metadata": {},
   "source": [
    "---\n",
    "\n",
    "*Use this area below as an experimental playground for the question. Feel free to leave some of the experimental code here with your submision. However, it will not be marked or reviewed. Make sure in your submission that if there is any experimental code here then running it does not interfere with running the actual solutions.*\n",
    "\n",
    "---"
   ]
  },
  {
   "cell_type": "code",
   "execution_count": null,
   "metadata": {},
   "outputs": [],
   "source": []
  },
  {
   "cell_type": "code",
   "execution_count": null,
   "metadata": {},
   "outputs": [],
   "source": []
  },
  {
   "cell_type": "code",
   "execution_count": null,
   "metadata": {},
   "outputs": [],
   "source": []
  },
  {
   "cell_type": "markdown",
   "metadata": {},
   "source": [
    "# Solution to [Question 6](https://courses.smp.uq.edu.au/MATH2504/2023/assessment_html/bighw.html#q6)"
   ]
  },
  {
   "cell_type": "code",
   "execution_count": null,
   "metadata": {},
   "outputs": [],
   "source": [
    "\"\"\"\n",
    "Returns the all the primes up to n.\n",
    "\"\"\"\n",
    "\n",
    "function sieve_of_Eratosthenes(n)\n",
    "    primebits = ones(Bool,n) #Will contain true if the index is prime (initially all assumed prime)\n",
    "    primebits[1] = false #The number 1 is not prime\n",
    "    p = 2 #Smallest prime\n",
    "    while p ≤ n\n",
    "        i = 2p\n",
    "        while i ≤ n  # \\le +[TAB]\n",
    "            primebits[i] = false\n",
    "            i += p\n",
    "        end\n",
    "        p += 1\n",
    "        while p ≤ n && !primebits[p]\n",
    "            p += 1\n",
    "        end\n",
    "    end\n",
    "    (1:n)[primebits]\n",
    "end\n",
    "\n",
    "\n",
    "\n",
    "using Plots\n",
    "using StatsBase: sample\n",
    "\n",
    "function check_Goldbach(n)\n",
    "    @assert iseven(n)\n",
    "    num_pairs = 0\n",
    "    \n",
    "    #turn the sieve into a set so order doesn't matter and Julia can sift through faster\n",
    "    sieve = Set(sieve_of_Eratosthenes(n)) # only call the function once\n",
    "    for p in sieve\n",
    "        if in(n-p,sieve)\n",
    "            num_pairs += 1\n",
    "        end\n",
    "    end\n",
    "    return num_pairs\n",
    "end\n",
    "\n",
    "n = 10^6\n",
    "even_range = sample(4:2:n, 15000) #only plot a subset of 15000 points\n",
    "\n",
    "checks = check_Goldbach.(even_range)\n",
    "\n",
    "if 0 ∈ checks\n",
    "    println(\"Found a counter example for Goldbach\")\n",
    "end\n",
    "\n",
    "\n",
    "scatter(even_range,checks,legend=false,xlabel=\"n\",ylabel=\"Number of Goldbach pairs\")\n",
    "\n",
    "\n"
   ]
  },
  {
   "cell_type": "markdown",
   "metadata": {},
   "source": [
    "---\n",
    "\n",
    "*Use this area below as an experimental playground for the question. Feel free to leave some of the experimental code here with your submision. However, it will not be marked or reviewed. Make sure in your submission that if there is any experimental code here then running it does not interfere with running the actual solutions.*\n",
    "\n",
    "---"
   ]
  },
  {
   "cell_type": "code",
   "execution_count": null,
   "metadata": {},
   "outputs": [],
   "source": []
  },
  {
   "cell_type": "code",
   "execution_count": null,
   "metadata": {},
   "outputs": [],
   "source": []
  },
  {
   "cell_type": "code",
   "execution_count": null,
   "metadata": {},
   "outputs": [],
   "source": []
  },
  {
   "cell_type": "code",
   "execution_count": null,
   "metadata": {},
   "outputs": [],
   "source": []
  },
  {
   "cell_type": "markdown",
   "metadata": {},
   "source": [
    "# Solution to [Question 7](https://courses.smp.uq.edu.au/MATH2504/2023/assessment_html/bighw.html#q7)"
   ]
  },
  {
   "cell_type": "markdown",
   "metadata": {},
   "source": [
    "## 7a:"
   ]
  },
  {
   "cell_type": "code",
   "execution_count": null,
   "metadata": {},
   "outputs": [],
   "source": [
    "### Answer 7a here (in place of this comment)"
   ]
  },
  {
   "cell_type": "markdown",
   "metadata": {},
   "source": [
    "## 7b:"
   ]
  },
  {
   "cell_type": "code",
   "execution_count": null,
   "metadata": {},
   "outputs": [],
   "source": [
    "### Answer 7b here (in place of this comment)"
   ]
  },
  {
   "cell_type": "markdown",
   "metadata": {},
   "source": [
    "## 7c:"
   ]
  },
  {
   "cell_type": "code",
   "execution_count": null,
   "metadata": {},
   "outputs": [],
   "source": [
    "### Answer 7c here (in place of this comment)"
   ]
  },
  {
   "cell_type": "markdown",
   "metadata": {},
   "source": [
    "## 7d:"
   ]
  },
  {
   "cell_type": "code",
   "execution_count": null,
   "metadata": {},
   "outputs": [],
   "source": [
    "### Make this a markdown cell and answer 7d here (in place of this comment)"
   ]
  },
  {
   "cell_type": "markdown",
   "metadata": {},
   "source": [
    "---\n",
    "\n",
    "*Use this area below as an experimental playground for the question. Feel free to leave some of the experimental code here with your submision. However, it will not be marked or reviewed. Make sure in your submission that if there is any experimental code here then running it does not interfere with running the actual solutions.*\n",
    "\n",
    "---"
   ]
  },
  {
   "cell_type": "code",
   "execution_count": null,
   "metadata": {},
   "outputs": [],
   "source": []
  },
  {
   "cell_type": "code",
   "execution_count": null,
   "metadata": {},
   "outputs": [],
   "source": []
  },
  {
   "cell_type": "code",
   "execution_count": null,
   "metadata": {},
   "outputs": [],
   "source": []
  },
  {
   "cell_type": "markdown",
   "metadata": {},
   "source": [
    "# Solution to [Question 8](https://courses.smp.uq.edu.au/MATH2504/2023/assessment_html/bighw.html#q8)"
   ]
  },
  {
   "cell_type": "markdown",
   "metadata": {},
   "source": [
    "## 8a:"
   ]
  },
  {
   "cell_type": "code",
   "execution_count": 2,
   "metadata": {},
   "outputs": [
    {
     "name": "stdout",
     "output_type": "stream",
     "text": [
      "Sorted by first name:\n",
      "1\tAlistair Falconer\n",
      "2\tAmy Chan\n",
      "3\tAndy Ferris\n",
      "4\tAnna Foeglein\n",
      "5\tBrandon Lowe\n",
      "6\tCooper Janke\n",
      "7\tElaine Schenk\n",
      "8\tEmma Comino\n",
      "9\tIsaac Beh\n",
      "10\tIvana Carrizo-Molina\n",
      "11\tJesse Woods\n",
      "12\tLief Lundmark\n",
      "13\tLimao Chang\n",
      "14\tMaithili Mehta\n",
      "15\tMegan Dawson\n",
      "16\tNazeef Hamid\n",
      "17\tPaul Bellette\n",
      "18\tPaul Vrbik\n",
      "19\tSam Hambleton\n",
      "20\tThomas Graham\n",
      "21\tTina Moghaddam\n",
      "22\tTom Cranitch\n",
      "23\tYoni Nazarathy\n",
      "\n",
      "Sorted by last name:\n",
      "1\tIsaac Beh\n",
      "2\tPaul Bellette\n",
      "3\tIvana Carrizo-Molina\n",
      "4\tAmy Chan\n",
      "5\tLimao Chang\n",
      "6\tEmma Comino\n",
      "7\tTom Cranitch\n",
      "8\tMegan Dawson\n",
      "9\tAlistair Falconer\n",
      "10\tAndy Ferris\n",
      "11\tAnna Foeglein\n",
      "12\tThomas Graham\n",
      "13\tSam Hambleton\n",
      "14\tNazeef Hamid\n",
      "15\tCooper Janke\n",
      "16\tBrandon Lowe\n",
      "17\tLief Lundmark\n",
      "18\tMaithili Mehta\n",
      "19\tTina Moghaddam\n",
      "20\tYoni Nazarathy\n",
      "21\tElaine Schenk\n",
      "22\tPaul Vrbik\n",
      "23\tJesse Woods\n"
     ]
    }
   ],
   "source": [
    "function array_table(array, heading)\n",
    "    println(heading,\":\")\n",
    "    for (i,a) in enumerate(array)\n",
    "        println(i,\"\\t\",a)\n",
    "    end\n",
    "end\n",
    "\n",
    "names = [   \"Amy Chan\",\n",
    "            \"Maithili Mehta\",\n",
    "            \"Anna Foeglein\",\n",
    "            \"Andy Ferris\",\n",
    "            \"Thomas Graham\",\n",
    "            \"Elaine Schenk\",\n",
    "            \"Jesse Woods\",\n",
    "            \"Tina Moghaddam\",\n",
    "            \"Paul Bellette\",\n",
    "            \"Paul Vrbik\",\n",
    "            \"Tom Cranitch\",\n",
    "            \"Yoni Nazarathy\",\n",
    "            \"Sam Hambleton\",\n",
    "            \"Isaac Beh\", \n",
    "            \"Limao Chang\", \n",
    "            \"Nazeef Hamid\", \n",
    "            \"Cooper Janke\", \n",
    "            \"Brandon Lowe\", \n",
    "            \"Lief Lundmark\",\n",
    "            \"Megan Dawson\",\n",
    "            \"Alistair Falconer\",\n",
    "            \"Emma Comino\",\n",
    "            \"Ivana Carrizo-Molina\"]\n",
    "\n",
    "sorted_names = sort(names)\n",
    "array_table(sorted_names, \"Sorted by first name\")\n",
    "\n",
    "println()\n",
    "\n",
    "sorted_names = sort(names,by=(x)->reverse(split(x,\" \")))\n",
    "array_table(sorted_names,\"Sorted by last name\")\n",
    "\n",
    "\n",
    "#If this error appears : cannot assign a value to imported variable Base.names from module Main \n",
    "    #RESTART KERNEL and then run again\n"
   ]
  },
  {
   "cell_type": "markdown",
   "metadata": {},
   "source": [
    "## 8b:"
   ]
  },
  {
   "cell_type": "code",
   "execution_count": 3,
   "metadata": {},
   "outputs": [
    {
     "name": "stdout",
     "output_type": "stream",
     "text": [
      "Bubble Sorted:\n",
      "1\tIsaac Beh\n",
      "2\tPaul Bellette\n",
      "3\tIvana Carrizo-Molina\n",
      "4\tAmy Chan\n",
      "5\tLimao Chang\n",
      "6\tEmma Comino\n",
      "7\tTom Cranitch\n",
      "8\tMegan Dawson\n",
      "9\tAlistair Falconer\n",
      "10\tAndy Ferris\n",
      "11\tAnna Foeglein\n",
      "12\tThomas Graham\n",
      "13\tSam Hambleton\n",
      "14\tNazeef Hamid\n",
      "15\tCooper Janke\n",
      "16\tBrandon Lowe\n",
      "17\tLief Lundmark\n",
      "18\tMaithili Mehta\n",
      "19\tTina Moghaddam\n",
      "20\tYoni Nazarathy\n",
      "21\tElaine Schenk\n",
      "22\tPaul Vrbik\n",
      "23\tJesse Woods\n"
     ]
    }
   ],
   "source": [
    "function my_sort_bubble(array; by::Function)  #can accept strings or integers in the array\n",
    "    n = length(array)\n",
    "    for i in 1:n\n",
    "        for j in 1:n-i\n",
    "            if by(array[j], array[j+1]) # check to see if the element is greater than the one after\n",
    "                array[j], array[j+1] = array[j+1], array[j]   # swaps the elements if they're not in order\n",
    "            end\n",
    "        end\n",
    "    end\n",
    "    \n",
    "    return array\n",
    "end\n",
    "\n",
    "#sort names in alphabetical order (by last name)\n",
    "output = my_sort_bubble(names, by=(name1, name2) -> split(name1)[end] > split(name2)[end]) \n",
    "array_table(output, \"Bubble Sorted\")\n"
   ]
  },
  {
   "cell_type": "markdown",
   "metadata": {},
   "source": [
    "## 8c:"
   ]
  },
  {
   "cell_type": "code",
   "execution_count": 6,
   "metadata": {},
   "outputs": [
    {
     "name": "stdout",
     "output_type": "stream",
     "text": [
      "Quickly Sorted:\n",
      "1\tIsaac Beh\n",
      "2\tPaul Bellette\n",
      "3\tIvana Carrizo-Molina\n",
      "4\tAmy Chan\n",
      "5\tLimao Chang\n",
      "6\tEmma Comino\n",
      "7\tTom Cranitch\n",
      "8\tMegan Dawson\n",
      "9\tAlistair Falconer\n",
      "10\tAndy Ferris\n",
      "11\tAnna Foeglein\n",
      "12\tThomas Graham\n",
      "13\tSam Hambleton\n",
      "14\tNazeef Hamid\n",
      "15\tCooper Janke\n",
      "16\tBrandon Lowe\n",
      "17\tLief Lundmark\n",
      "18\tMaithili Mehta\n",
      "19\tTina Moghaddam\n",
      "20\tYoni Nazarathy\n",
      "21\tElaine Schenk\n",
      "22\tPaul Vrbik\n",
      "23\tJesse Woods\n"
     ]
    }
   ],
   "source": [
    "function my_sort_quick(array; by ::Function)\n",
    "    n = length(array)\n",
    "        \n",
    "    if n <=1\n",
    "        return array\n",
    "    else\n",
    "        pivot = array[rand(1:n)]\n",
    "        first_half = [x for x in array if by(x,pivot) < 0]\n",
    "        second_half = [x for x in array if by(x,pivot) > 0]\n",
    "        equal = [x for x in array if by(x,pivot) == 0]\n",
    "        return vcat(my_sort_quick(first_half,by), equal, my_sort_quick(second_half,by))\n",
    "    end\n",
    "end\n",
    "    \n",
    "by_alphabet(name1, name2) = split(name1)[end] > split(name2)[end]\n",
    "output = my_sort_quick(names, by_alphabet)\n",
    "array_table(output, \"Quickly Sorted\")\n"
   ]
  },
  {
   "cell_type": "markdown",
   "metadata": {},
   "source": [
    "## 8d:"
   ]
  },
  {
   "cell_type": "code",
   "execution_count": 13,
   "metadata": {},
   "outputs": [
    {
     "name": "stdout",
     "output_type": "stream",
     "text": [
      "Comparing the time it takes the sort functions to sort 10000 integers.\n",
      "Julia's implemented sort function: \n",
      "  195.100 μs (5 allocations: 164.53 KiB)\n",
      "My quick sort function: \n",
      "  58.300 μs (14 allocations: 254.81 KiB)\n",
      "My bubble sort function: \n",
      "  34.472 ms (0 allocations: 0 bytes)\n",
      "\n",
      "Comparing the time it takes the sort functions to sort 100000 integers.\n",
      "Julia's implemented sort function: \n",
      "  9.500 μs (2 allocations: 78.17 KiB)\n",
      "My quick sort function: \n",
      "  57.800 μs (14 allocations: 255.75 KiB)\n",
      "\n",
      "Comparing the time it takes the sort functions to sort 1000000 integers.\n",
      "Julia's implemented sort function: \n",
      "  10.100 μs (2 allocations: 78.17 KiB)\n",
      "My quick sort function: \n",
      "  58.800 μs (14 allocations: 257.22 KiB)\n",
      "\n",
      "Comparing the time it takes the sort functions to sort 10000000 integers.\n",
      "Julia's implemented sort function: \n",
      "  9.600 μs (2 allocations: 78.17 KiB)\n",
      "My quick sort function: \n",
      "  55.400 μs"
     ]
    },
    {
     "ename": "LoadError",
     "evalue": "InterruptException:",
     "output_type": "error",
     "traceback": [
      "InterruptException:",
      "",
      "Stacktrace:",
      "  [1] try_yieldto(undo::typeof(Base.ensure_rescheduled))",
      "    @ Base .\\task.jl:920",
      "  [2] wait()",
      "    @ Base .\\task.jl:984",
      "  [3] uv_write(s::Base.PipeEndpoint, p::Ptr{UInt8}, n::UInt64)",
      "    @ Base .\\stream.jl:1048",
      "  [4] unsafe_write(s::Base.PipeEndpoint, p::Ptr{UInt8}, n::UInt64)",
      "    @ Base .\\stream.jl:1120",
      "  [5] unsafe_write",
      "    @ .\\io.jl:430 [inlined]",
      "  [6] write",
      "    @ .\\strings\\io.jl:244 [inlined]",
      "  [7] print(io::IJulia.IJuliaStdio{Base.PipeEndpoint}, s::String)",
      "    @ Base .\\strings\\io.jl:246",
      "  [8] print(::IJulia.IJuliaStdio{Base.PipeEndpoint}, ::String, ::String, ::Vararg{Any})",
      "    @ Base .\\strings\\io.jl:46",
      "  [9] println(::IJulia.IJuliaStdio{Base.PipeEndpoint}, ::String, ::Vararg{Any})",
      "    @ Base .\\strings\\io.jl:75",
      " [10] println(::String, ::String, ::Vararg{Any})",
      "    @ Base .\\coreio.jl:4",
      " [11] macro expansion",
      "    @ C:\\Users\\Felicity Caruana\\.julia\\packages\\BenchmarkTools\\0owsb\\src\\execution.jl:580 [inlined]",
      " [12] top-level scope",
      "    @ In[13]:23"
     ]
    }
   ],
   "source": [
    "using BenchmarkTools\n",
    "\n",
    "data = rand(Int, 10^4)\n",
    "println(\"Comparing the time it takes the sort functions to sort 10000 integers.\")\n",
    "@show;\n",
    "\n",
    "println(\"Julia's implemented sort function: \")\n",
    "@btime sort(data);\n",
    "\n",
    "println(\"My quick sort function: \")\n",
    "@btime my_sort_quick(data, by=(x,y) -> x > y);\n",
    "\n",
    "println(\"My bubble sort function: \")\n",
    "@btime my_sort_bubble(data, by=(x,y) -> x > y);\n",
    "\n",
    "n = 10^5\n",
    "while n <= 10^8\n",
    "    println()\n",
    "    println(\"Comparing the time it takes the sort functions to sort $n integers.\")\n",
    "    println(\"Julia's implemented sort function: \")\n",
    "    @btime sort(data);\n",
    "    println(\"My quick sort function: \")\n",
    "    @btime my_sort_quick(data, by=(x,y) -> x > y);\n",
    "    n*=10\n",
    "end\n"
   ]
  },
  {
   "cell_type": "markdown",
   "metadata": {},
   "source": [
    "---\n",
    "\n",
    "*Use this area below as an experimental playground for the question. Feel free to leave some of the experimental code here with your submision. However, it will not be marked or reviewed. Make sure in your submission that if there is any experimental code here then running it does not interfere with running the actual solutions.*\n",
    "\n",
    "---"
   ]
  },
  {
   "cell_type": "code",
   "execution_count": null,
   "metadata": {},
   "outputs": [],
   "source": []
  },
  {
   "cell_type": "code",
   "execution_count": null,
   "metadata": {},
   "outputs": [],
   "source": []
  },
  {
   "cell_type": "code",
   "execution_count": null,
   "metadata": {},
   "outputs": [],
   "source": []
  },
  {
   "cell_type": "markdown",
   "metadata": {},
   "source": [
    "# Solution to [Question 9](https://courses.smp.uq.edu.au/MATH2504/2023/assessment_html/bighw.html#q9)"
   ]
  },
  {
   "cell_type": "markdown",
   "metadata": {},
   "source": [
    "## 9a:"
   ]
  },
  {
   "cell_type": "code",
   "execution_count": 25,
   "metadata": {},
   "outputs": [],
   "source": [
    "### Answer 9a here (in place of this comment)"
   ]
  },
  {
   "cell_type": "markdown",
   "metadata": {},
   "source": [
    "## 9b:"
   ]
  },
  {
   "cell_type": "code",
   "execution_count": 26,
   "metadata": {},
   "outputs": [],
   "source": [
    "### Answer 9b here (in place of this comment)"
   ]
  },
  {
   "cell_type": "markdown",
   "metadata": {},
   "source": [
    "## 9c:"
   ]
  },
  {
   "cell_type": "code",
   "execution_count": 27,
   "metadata": {},
   "outputs": [],
   "source": [
    "### Answer 9c here (in place of this comment)"
   ]
  },
  {
   "cell_type": "markdown",
   "metadata": {},
   "source": [
    "## 9d:\n"
   ]
  },
  {
   "cell_type": "code",
   "execution_count": 28,
   "metadata": {},
   "outputs": [],
   "source": [
    "### Make this a markdown cell and answer 9d here (in place of this comment)"
   ]
  },
  {
   "cell_type": "markdown",
   "metadata": {},
   "source": [
    "---\n",
    "\n",
    "*Use this area below as an experimental playground for the question. Feel free to leave some of the experimental code here with your submision. However, it will not be marked or reviewed. Make sure in your submission that if there is any experimental code here then running it does not interfere with running the actual solutions.*\n",
    "\n",
    "---"
   ]
  },
  {
   "cell_type": "code",
   "execution_count": null,
   "metadata": {},
   "outputs": [],
   "source": []
  },
  {
   "cell_type": "code",
   "execution_count": null,
   "metadata": {},
   "outputs": [],
   "source": []
  },
  {
   "cell_type": "code",
   "execution_count": null,
   "metadata": {},
   "outputs": [],
   "source": []
  },
  {
   "cell_type": "code",
   "execution_count": null,
   "metadata": {},
   "outputs": [],
   "source": []
  },
  {
   "cell_type": "code",
   "execution_count": null,
   "metadata": {},
   "outputs": [],
   "source": []
  },
  {
   "cell_type": "code",
   "execution_count": null,
   "metadata": {},
   "outputs": [],
   "source": []
  },
  {
   "cell_type": "code",
   "execution_count": null,
   "metadata": {},
   "outputs": [],
   "source": []
  },
  {
   "cell_type": "code",
   "execution_count": null,
   "metadata": {},
   "outputs": [],
   "source": []
  },
  {
   "cell_type": "code",
   "execution_count": null,
   "metadata": {},
   "outputs": [],
   "source": []
  },
  {
   "cell_type": "code",
   "execution_count": null,
   "metadata": {},
   "outputs": [],
   "source": []
  },
  {
   "cell_type": "code",
   "execution_count": null,
   "metadata": {},
   "outputs": [],
   "source": []
  },
  {
   "cell_type": "code",
   "execution_count": null,
   "metadata": {},
   "outputs": [],
   "source": []
  },
  {
   "cell_type": "code",
   "execution_count": null,
   "metadata": {},
   "outputs": [],
   "source": []
  },
  {
   "cell_type": "code",
   "execution_count": null,
   "metadata": {},
   "outputs": [],
   "source": []
  },
  {
   "cell_type": "code",
   "execution_count": null,
   "metadata": {},
   "outputs": [],
   "source": []
  },
  {
   "cell_type": "code",
   "execution_count": null,
   "metadata": {},
   "outputs": [],
   "source": []
  },
  {
   "cell_type": "code",
   "execution_count": null,
   "metadata": {},
   "outputs": [],
   "source": []
  },
  {
   "cell_type": "code",
   "execution_count": null,
   "metadata": {},
   "outputs": [],
   "source": []
  },
  {
   "cell_type": "code",
   "execution_count": null,
   "metadata": {},
   "outputs": [],
   "source": []
  },
  {
   "cell_type": "code",
   "execution_count": null,
   "metadata": {},
   "outputs": [],
   "source": []
  },
  {
   "cell_type": "code",
   "execution_count": null,
   "metadata": {},
   "outputs": [],
   "source": []
  },
  {
   "cell_type": "code",
   "execution_count": null,
   "metadata": {},
   "outputs": [],
   "source": []
  },
  {
   "cell_type": "code",
   "execution_count": null,
   "metadata": {},
   "outputs": [],
   "source": []
  },
  {
   "cell_type": "code",
   "execution_count": null,
   "metadata": {},
   "outputs": [],
   "source": []
  },
  {
   "cell_type": "code",
   "execution_count": null,
   "metadata": {},
   "outputs": [],
   "source": []
  },
  {
   "cell_type": "code",
   "execution_count": null,
   "metadata": {},
   "outputs": [],
   "source": []
  },
  {
   "cell_type": "code",
   "execution_count": null,
   "metadata": {},
   "outputs": [],
   "source": []
  },
  {
   "cell_type": "code",
   "execution_count": null,
   "metadata": {},
   "outputs": [],
   "source": []
  },
  {
   "cell_type": "code",
   "execution_count": null,
   "metadata": {},
   "outputs": [],
   "source": []
  },
  {
   "cell_type": "code",
   "execution_count": null,
   "metadata": {},
   "outputs": [],
   "source": []
  },
  {
   "cell_type": "code",
   "execution_count": null,
   "metadata": {},
   "outputs": [],
   "source": []
  },
  {
   "cell_type": "code",
   "execution_count": null,
   "metadata": {},
   "outputs": [],
   "source": []
  },
  {
   "cell_type": "code",
   "execution_count": null,
   "metadata": {},
   "outputs": [],
   "source": []
  },
  {
   "cell_type": "code",
   "execution_count": null,
   "metadata": {},
   "outputs": [],
   "source": []
  },
  {
   "cell_type": "code",
   "execution_count": null,
   "metadata": {},
   "outputs": [],
   "source": []
  },
  {
   "cell_type": "code",
   "execution_count": null,
   "metadata": {},
   "outputs": [],
   "source": []
  },
  {
   "cell_type": "code",
   "execution_count": null,
   "metadata": {},
   "outputs": [],
   "source": []
  },
  {
   "cell_type": "code",
   "execution_count": null,
   "metadata": {},
   "outputs": [],
   "source": []
  },
  {
   "cell_type": "code",
   "execution_count": null,
   "metadata": {},
   "outputs": [],
   "source": []
  },
  {
   "cell_type": "code",
   "execution_count": null,
   "metadata": {},
   "outputs": [],
   "source": []
  },
  {
   "cell_type": "code",
   "execution_count": null,
   "metadata": {},
   "outputs": [],
   "source": []
  },
  {
   "cell_type": "code",
   "execution_count": null,
   "metadata": {},
   "outputs": [],
   "source": []
  },
  {
   "cell_type": "code",
   "execution_count": null,
   "metadata": {},
   "outputs": [],
   "source": []
  },
  {
   "cell_type": "code",
   "execution_count": null,
   "metadata": {},
   "outputs": [],
   "source": []
  },
  {
   "cell_type": "code",
   "execution_count": null,
   "metadata": {},
   "outputs": [],
   "source": []
  },
  {
   "cell_type": "code",
   "execution_count": null,
   "metadata": {},
   "outputs": [],
   "source": []
  },
  {
   "cell_type": "code",
   "execution_count": null,
   "metadata": {},
   "outputs": [],
   "source": []
  },
  {
   "cell_type": "code",
   "execution_count": null,
   "metadata": {},
   "outputs": [],
   "source": []
  }
 ],
 "metadata": {
  "kernelspec": {
   "display_name": "Julia 1.9.2",
   "language": "julia",
   "name": "julia-1.9"
  },
  "language_info": {
   "file_extension": ".jl",
   "mimetype": "application/julia",
   "name": "julia",
   "version": "1.9.2"
  }
 },
 "nbformat": 4,
 "nbformat_minor": 4
}
