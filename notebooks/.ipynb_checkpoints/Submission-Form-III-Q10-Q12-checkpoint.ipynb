{
 "cells": [
  {
   "cell_type": "markdown",
   "metadata": {},
   "source": [
    "### MATH2504 S2, 2023, BigHW Submission \n",
    "### Submission form III of IV "
   ]
  },
  {
   "cell_type": "markdown",
   "metadata": {},
   "source": [
    "Student #1 name: Matthew Lynch\n",
    "\n",
    "Student #1 ID: 47426557\n",
    "\n",
    "Student #2 name: Felicity Caruana\n",
    "\n",
    "Student #2 ID: 47425523\n",
    "\n",
    "GitHub repo: https://github.com/lynchmatt/Matthew-Lynch_Felicity-Caruana-2504-2023-BigHW"
   ]
  },
  {
   "cell_type": "markdown",
   "metadata": {},
   "source": [
    "---\n",
    "\n",
    "**Note: It is expected that this notebook be runnable in the sense that the marker can select \"Restart & Run All\" and all code cells of solutions will execute. This requires not to have name clashes between solutions.**\n",
    "\n",
    "---"
   ]
  },
  {
   "cell_type": "markdown",
   "metadata": {},
   "source": [
    "# Solution to [Question 10](https://courses.smp.uq.edu.au/MATH2504/2023/assessment_html/bighw.html#q10)"
   ]
  },
  {
   "cell_type": "markdown",
   "metadata": {},
   "source": [
    "GitHub works. However, there can be issues when the output of a question is a plot with a large number of data points (ie question 6). Files are best loaded into Github without being run, then run on the marker's own device.\n",
    "\n",
    "Here's a cat: __/ᐠ. .ᐟ\\ฅ__"
   ]
  },
  {
   "cell_type": "markdown",
   "metadata": {},
   "source": [
    "# Solution to [Question 11](https://courses.smp.uq.edu.au/MATH2504/2023/assessment_html/bighw.html#q11)"
   ]
  },
  {
   "cell_type": "markdown",
   "metadata": {},
   "source": [
    "## 11a:"
   ]
  },
  {
   "cell_type": "markdown",
   "metadata": {},
   "source": [
    "#### Navigate to where I wanted to put the folder, create hw2_q1, and make that the current directory.\n",
    "\n",
    "Input: $ cd OneDrive/MATH2504 \\\n",
    "Output: none\n",
    "\n",
    "Input: $ mkdir hw2_q1 \\\n",
    "Output: none\n",
    "\n",
    "Input: $ cd hw2_q1 \\\n",
    "Output: none\n",
    "\n",
    "\n",
    "Input: $ pwd \\\n",
    "Output: /c/Users/1908l/OneDrive/MATH2504/hw2_q1\n"
   ]
  },
  {
   "cell_type": "markdown",
   "metadata": {},
   "source": [
    "## 11b:"
   ]
  },
  {
   "cell_type": "markdown",
   "metadata": {},
   "source": [
    "#### Display name to the terminal using the echo command.\n",
    "\n",
    "Input:  $ echo Matthew Lynch \\\n",
    "Output: Matthew Lynch"
   ]
  },
  {
   "cell_type": "markdown",
   "metadata": {},
   "source": [
    "## 11c:"
   ]
  },
  {
   "cell_type": "markdown",
   "metadata": {},
   "source": [
    "#### Sent output of the echo command to a file my_name.txt.\n",
    "\n",
    "Input: $ echo \"Matthew Lynch\" > my_name.txt \\\n",
    "Output: none"
   ]
  },
  {
   "cell_type": "markdown",
   "metadata": {},
   "source": [
    "## 11d:"
   ]
  },
  {
   "cell_type": "markdown",
   "metadata": {},
   "source": [
    "#### Display the contents of the new file my_name.txt\n",
    "\n",
    "Input: $ cat my_name.txt \\\n",
    "Output: Matthew Lynch"
   ]
  },
  {
   "cell_type": "markdown",
   "metadata": {},
   "source": [
    "## 11e:"
   ]
  },
  {
   "cell_type": "markdown",
   "metadata": {},
   "source": [
    "#### Display the length of the file in bytes. \n",
    "\n",
    "Input: $ ls -al \\\n",
    "Output: \\\n",
    "total 5 \\\n",
    "drwxr-xr-x 1 1908l 197121  0 Aug  3 17:07 ./ \\\n",
    "drwxr-xr-x 1 1908l 197121  0 Aug  3 17:06 ../ \\\n",
    "-rw-r--r-- 1 1908l 197121 14 Aug  3 17:08 my_name.txt"
   ]
  },
  {
   "cell_type": "markdown",
   "metadata": {},
   "source": [
    "## 11f:"
   ]
  },
  {
   "cell_type": "markdown",
   "metadata": {},
   "source": [
    "#### Create a duplicate of my_name.txt called ny_name2.txt.\n",
    "\n",
    "Input: $ cp my_name.txt my_name2.txt \\\n",
    "Output: none"
   ]
  },
  {
   "cell_type": "markdown",
   "metadata": {},
   "source": [
    "## 11g:"
   ]
  },
  {
   "cell_type": "markdown",
   "metadata": {},
   "source": [
    "#### Create a folder called 'people'\n",
    "\n",
    "Input: $ mkdir people \\\n",
    "Output: none"
   ]
  },
  {
   "cell_type": "markdown",
   "metadata": {},
   "source": [
    "## 11h:"
   ]
  },
  {
   "cell_type": "markdown",
   "metadata": {},
   "source": [
    "#### Rename my_name2.txt as MATTHEW_LYNCH.txt, and move it into 'people'.\n",
    "\n",
    "Input: $ mv my_name.txt MATTHEW_LYNCH.txt \\\n",
    "Output: none\n",
    "\n",
    "Input: $ mv MATTHEW_LYNCH.txt people \\\n",
    "Output: none"
   ]
  },
  {
   "cell_type": "markdown",
   "metadata": {},
   "source": [
    "## 11i:"
   ]
  },
  {
   "cell_type": "markdown",
   "metadata": {},
   "source": [
    "#### Use the echo command to create through new files of names in the folder people, as described in part 11c.\n",
    "\n",
    "Input: $ echo \"Jane Goodall\" > JANE_GOODALL.txt \\\n",
    "Output: none\n",
    "\n",
    "Input: $ echo \"Alfred Lotka\" > ALFRED_LOTKA.txt \\\n",
    "Output: none\n",
    "\n",
    "Input: $ echo \"Charles Darwin\" > CHARLES_DARWIN.txt \\\n",
    "Output: "
   ]
  },
  {
   "cell_type": "markdown",
   "metadata": {},
   "source": [
    "## 11j:"
   ]
  },
  {
   "cell_type": "markdown",
   "metadata": {},
   "source": [
    "#### Change directory into 'people,' and use .. to move a file into hw2_q1.\n",
    "\n",
    "Input: $ mv ALFRED_LOTKA.txt .. \\\n",
    "Output: none"
   ]
  },
  {
   "cell_type": "markdown",
   "metadata": {},
   "source": [
    "## 11k:"
   ]
  },
  {
   "cell_type": "markdown",
   "metadata": {},
   "source": [
    "#### Use an absolute path to move a file into hw2_q1.\n",
    "\n",
    "Input: $ mv JANE_GOODALL.txt /c/Users/1908l/OneDrive/MATH2504/hw2_q1 \\\n",
    "Output: none"
   ]
  },
  {
   "cell_type": "markdown",
   "metadata": {},
   "source": [
    "## 11l:"
   ]
  },
  {
   "cell_type": "markdown",
   "metadata": {},
   "source": [
    "#### Copy a file in people into a file name starting with a dot as a prefix.\n",
    "\n",
    "Input: $ cp CHARLES_DARWIN.txt .CHARLES_DARWIN.txt \\\n",
    "Output: none"
   ]
  },
  {
   "cell_type": "markdown",
   "metadata": {},
   "source": [
    "## 11m:"
   ]
  },
  {
   "cell_type": "markdown",
   "metadata": {},
   "source": [
    "#### Show all the files in the current directory, including file information and hidden files.\n",
    "\n",
    "Input:$ ls -al \\\n",
    "Output: \\\n",
    "total 10 \\\n",
    "drwxr-xr-x 1 1908l 197121  0 Aug  4 11:16 ./ \\\n",
    "drwxr-xr-x 1 1908l 197121  0 Aug  4 11:15 ../ \\\n",
    "-rw-r--r-- 1 1908l 197121 15 Aug  4 11:16 .CHARLES_DARWIN.txt \\\n",
    "-rw-r--r-- 1 1908l 197121 15 Aug  4 11:15 CHARLES_DARWIN.txt \\"
   ]
  },
  {
   "cell_type": "markdown",
   "metadata": {},
   "source": [
    "## 11n:"
   ]
  },
  {
   "cell_type": "markdown",
   "metadata": {},
   "source": [
    "#### Delete all files in the current directory with a single command.\n",
    "\n",
    "Input: $ rm -rf {*,.*} \\\n",
    "Output: none"
   ]
  },
  {
   "cell_type": "markdown",
   "metadata": {},
   "source": [
    "## 11o:"
   ]
  },
  {
   "cell_type": "markdown",
   "metadata": {},
   "source": [
    "#### Change to the directory hw2_q1, and delete the directory people.\n",
    "\n",
    "Input: $ cd ../ \\\n",
    "Output: none\n",
    "\n",
    "Input: $ rmdir people \\\n",
    "Output: none"
   ]
  },
  {
   "cell_type": "markdown",
   "metadata": {},
   "source": [
    "# Solution to [Question 12](https://courses.smp.uq.edu.au/MATH2504/2023/assessment_html/bighw.html#q12)"
   ]
  },
  {
   "cell_type": "code",
   "execution_count": 44,
   "metadata": {},
   "outputs": [
    {
     "name": "stdout",
     "output_type": "stream",
     "text": [
      "Total number of cells: 60\n",
      "Number of markdown cells:27\n",
      "Number of code cells: 33\n",
      "Number of code cells with output: 12\n",
      "Number of code cells without output: 21\n",
      "Number of code cells not executed: 17\n",
      "Number of code cells executed at least once: 16\n",
      "first(markdown_df, 3) = 3×7 DataFrame\n",
      " Row │ cell_number  character_count  line_count  single_hashes  double_hashes  triple_hashes  quadruple_hashes\n",
      "     │ Int64        Int64            Int64       Int64          Int64          Int64          Int64\n",
      "─────┼─────────────────────────────────────────────────────────────────────────────────────────────────────────\n",
      "   1 │           1              518           9              2              1              0                 0\n",
      "   2 │           2               77           2              0              0              1                 0\n",
      "   3 │           3               12           1              0              0              1                 0\n",
      "first(code_df, 3) = 3×7 DataFrame\n",
      " Row │ cell_number  character_count  line_count  return_frequency  for_frequency  if_frequency  using_frequency\n",
      "     │ Int64        Int64            Int64       Int64             Int64          Int64         Int64\n",
      "─────┼──────────────────────────────────────────────────────────────────────────────────────────────────────────\n",
      "   1 │           4               72           1                 0              0             0                0\n",
      "   2 │           6               44           2                 0              0             0                0\n",
      "   3 │           8               37           1                 0              1             0                0\n"
     ]
    },
    {
     "data": {
      "text/html": [
       "<div><div style = \"float: left;\"><span>3×7 DataFrame</span></div><div style = \"clear: both;\"></div></div><div class = \"data-frame\" style = \"overflow-x: scroll;\"><table class = \"data-frame\" style = \"margin-bottom: 6px;\"><thead><tr class = \"header\"><th class = \"rowNumber\" style = \"font-weight: bold; text-align: right;\">Row</th><th style = \"text-align: left;\">cell_number</th><th style = \"text-align: left;\">character_count</th><th style = \"text-align: left;\">line_count</th><th style = \"text-align: left;\">return_frequency</th><th style = \"text-align: left;\">for_frequency</th><th style = \"text-align: left;\">if_frequency</th><th style = \"text-align: left;\">using_frequency</th></tr><tr class = \"subheader headerLastRow\"><th class = \"rowNumber\" style = \"font-weight: bold; text-align: right;\"></th><th title = \"Int64\" style = \"text-align: left;\">Int64</th><th title = \"Int64\" style = \"text-align: left;\">Int64</th><th title = \"Int64\" style = \"text-align: left;\">Int64</th><th title = \"Int64\" style = \"text-align: left;\">Int64</th><th title = \"Int64\" style = \"text-align: left;\">Int64</th><th title = \"Int64\" style = \"text-align: left;\">Int64</th><th title = \"Int64\" style = \"text-align: left;\">Int64</th></tr></thead><tbody><tr><td class = \"rowNumber\" style = \"font-weight: bold; text-align: right;\">1</td><td style = \"text-align: right;\">4</td><td style = \"text-align: right;\">72</td><td style = \"text-align: right;\">1</td><td style = \"text-align: right;\">0</td><td style = \"text-align: right;\">0</td><td style = \"text-align: right;\">0</td><td style = \"text-align: right;\">0</td></tr><tr><td class = \"rowNumber\" style = \"font-weight: bold; text-align: right;\">2</td><td style = \"text-align: right;\">6</td><td style = \"text-align: right;\">44</td><td style = \"text-align: right;\">2</td><td style = \"text-align: right;\">0</td><td style = \"text-align: right;\">0</td><td style = \"text-align: right;\">0</td><td style = \"text-align: right;\">0</td></tr><tr><td class = \"rowNumber\" style = \"font-weight: bold; text-align: right;\">3</td><td style = \"text-align: right;\">8</td><td style = \"text-align: right;\">37</td><td style = \"text-align: right;\">1</td><td style = \"text-align: right;\">0</td><td style = \"text-align: right;\">1</td><td style = \"text-align: right;\">0</td><td style = \"text-align: right;\">0</td></tr></tbody></table></div>"
      ],
      "text/latex": [
       "\\begin{tabular}{r|ccccccc}\n",
       "\t& cell\\_number & character\\_count & line\\_count & return\\_frequency & for\\_frequency & if\\_frequency & \\\\\n",
       "\t\\hline\n",
       "\t& Int64 & Int64 & Int64 & Int64 & Int64 & Int64 & \\\\\n",
       "\t\\hline\n",
       "\t1 & 4 & 72 & 1 & 0 & 0 & 0 & $\\dots$ \\\\\n",
       "\t2 & 6 & 44 & 2 & 0 & 0 & 0 & $\\dots$ \\\\\n",
       "\t3 & 8 & 37 & 1 & 0 & 1 & 0 & $\\dots$ \\\\\n",
       "\\end{tabular}\n"
      ],
      "text/plain": [
       "\u001b[1m3×7 DataFrame\u001b[0m\n",
       "\u001b[1m Row \u001b[0m│\u001b[1m cell_number \u001b[0m\u001b[1m character_count \u001b[0m\u001b[1m line_count \u001b[0m\u001b[1m return_frequency \u001b[0m\u001b[1m for_frequen\u001b[0m ⋯\n",
       "     │\u001b[90m Int64       \u001b[0m\u001b[90m Int64           \u001b[0m\u001b[90m Int64      \u001b[0m\u001b[90m Int64            \u001b[0m\u001b[90m Int64      \u001b[0m ⋯\n",
       "─────┼──────────────────────────────────────────────────────────────────────────\n",
       "   1 │           4               72           1                 0              ⋯\n",
       "   2 │           6               44           2                 0\n",
       "   3 │           8               37           1                 0\n",
       "\u001b[36m                                                               3 columns omitted\u001b[0m"
      ]
     },
     "execution_count": 44,
     "metadata": {},
     "output_type": "execute_result"
    }
   ],
   "source": [
    "# import Pkg; Pkg.add(\"HTTP\")\n",
    "# import Pkg; Pkg.add(\"JSON\")\n",
    "# import Pkg; Pkg.add(\"CSV\")\n",
    "# import Pkg; Pkg.add(\"DataFrames\")\n",
    "\n",
    "using DataFrames, CSV\n",
    "\n",
    "using HTTP, JSON\n",
    "pracB_web = HTTP.request(\"GET\",\"https://raw.githubusercontent.com/yoninazarathy/ProgrammingCourse-with-Julia-SimulationAnalysisAndLearningSystems/main/practicals_jupyter/practical_B_julia_essentials.ipynb\")\n",
    "pracB_web_data = JSON.parse(String(pracB_web.body))\n",
    "cells = pracB_web_data[\"cells\"]\n",
    "println(\"Total number of cells: \", length(cells))\n",
    "\n",
    "# create loop to iterate through each cell, and count the number of markdown cells, number of code cells\n",
    "markdowns = 0\n",
    "codes = 0\n",
    "for i in 1:length(cells)\n",
    "    celltype = cells[i][\"cell_type\"]\n",
    "    if celltype == \"markdown\"\n",
    "        markdowns += 1\n",
    "    elseif celltype == \"code\"\n",
    "        codes += 1\n",
    "    end\n",
    "end\n",
    "println(\"Number of markdown cells:\",markdowns)\n",
    "println(\"Number of code cells: \", codes)\n",
    "\n",
    "# iterate through cells to find code cells and classify by output or no output\n",
    "cells_output = 0\n",
    "cells_no_output = 0\n",
    "for j in 1:length(cells)\n",
    "    celltype = cells[j][\"cell_type\"]\n",
    "    if celltype == \"code\"\n",
    "        if length(cells[j][\"outputs\"]) == 0\n",
    "            cells_no_output += 1\n",
    "        else\n",
    "            cells_output += 1\n",
    "        end\n",
    "    else\n",
    "    end\n",
    "end\n",
    "\n",
    "println(\"Number of code cells with output: \", cells_output)\n",
    "println(\"Number of code cells without output: \", cells_no_output)\n",
    "\n",
    "# finds code cells with execution counts above zero\n",
    "null_executions = 0\n",
    "not_null_executions = 0\n",
    "for k in 1:length(cells)\n",
    "    celltype = cells[k][\"cell_type\"]\n",
    "    if celltype == \"code\"\n",
    "        if typeof(cells[k][\"execution_count\"]) == Int64\n",
    "            not_null_executions += 1\n",
    "        else\n",
    "            null_executions += 1\n",
    "        end\n",
    "    else\n",
    "    end\n",
    "end\n",
    "\n",
    "println(\"Number of code cells not executed: \", null_executions)\n",
    "println(\"Number of code cells executed at least once: \", not_null_executions)\n",
    "\n",
    "# create array of markdown cell numbers. \n",
    "# each one will describe the 'position' of that markdown cell in the jupyter notebook\n",
    "# initialise markdown cells array\n",
    "markdown_cell_positions = Array{Int}(undef, markdowns)\n",
    "markdown_counter=1\n",
    "for a in 1:length(cells) # iterate through total list of cells\n",
    "    if cells[a][\"cell_type\"] == \"markdown\"\n",
    "        markdown_cell_positions[markdown_counter] = a # log the position of the bth markdown cell\n",
    "        markdown_counter += 1# change to next position in the markdown cell array\n",
    "    else\n",
    "    end\n",
    "end\n",
    "\n",
    "# create array of code cell numbers. \n",
    "# each one will describe the 'position' of that code cell in the jupyter notebook\n",
    "# initialise code cells array\n",
    "code_cell_positions = Array{Int}(undef, codes)\n",
    "code_counter=1\n",
    "for b in 1:length(cells) # iterate through total list of cells\n",
    "    if cells[b][\"cell_type\"] == \"code\"\n",
    "        code_cell_positions[code_counter] = b # log the position of the bth markdown cell\n",
    "        code_counter += 1 # change to next position in the markdown cell array\n",
    "    else\n",
    "    end\n",
    "end\n",
    "\n",
    "\n",
    "# create array for the character counts in markdown cells\n",
    "# determines how many items are in the \"source\" array, then counts\n",
    "# the number of characters in each item and adds them together\n",
    "\n",
    "\n",
    "# this code finds the length of the 'source' array, then adds the number of characters in each element for of each\n",
    "# array for each cell. the total length of each code cell is stored in an array\n",
    "markdown_character_array = Array{Int}(undef, markdowns)\n",
    "for i in 1:length(markdown_cell_positions)\n",
    "    characters_count_markdown = 0\n",
    "    position = Int64(markdown_cell_positions[i])\n",
    "    list_length_in_cell = length(cells[position][\"source\"])\n",
    "    for j in 1:list_length_in_cell\n",
    "        characters_count_markdown = characters_count_markdown + length(cells[position][\"source\"][j])\n",
    "    end\n",
    "    markdown_character_array[i] = characters_count_markdown\n",
    "end\n",
    "\n",
    "\n",
    "# create array for the character counts in code cells\n",
    "code_character_array = Array{Int}(undef, codes)\n",
    "for i in 1:length(code_character_array)\n",
    "    characters_count_code = 0\n",
    "    position = Int64(code_cell_positions[i])\n",
    "    list_length_in_cell = length(cells[position][\"source\"])\n",
    "    for j in 1:list_length_in_cell\n",
    "        characters_count_code = characters_count_code + length(cells[position][\"source\"][j])\n",
    "    end\n",
    "    code_character_array[i] = characters_count_code\n",
    "end\n",
    "\n",
    "\n",
    "# create array for the number of lines in code cells\n",
    "code_linecounts = Array{Int}(undef, codes)\n",
    "for i in 1:length(code_linecounts)\n",
    "    position = Int64(code_cell_positions[i])\n",
    "    linecount = length(cells[position][\"source\"])\n",
    "    code_linecounts[i] = linecount\n",
    "end\n",
    "\n",
    "# create an array for the number of lines in markdown cells\n",
    "markdown_linecounts = Array{Int}(undef, markdowns)\n",
    "for i in 1:length(markdown_linecounts)\n",
    "    position = Int64(markdown_cell_positions[i])\n",
    "    linecount = length(cells[position][\"source\"])\n",
    "    markdown_linecounts[i] = linecount\n",
    "end\n",
    "\n",
    "\n",
    "# create arrays for the number of times keywords appear in markdown cells\n",
    "return_counter_array = Array{Int}(undef, codes)\n",
    "for_counter_array = Array{Int}(undef, codes)\n",
    "if_counter_array = Array{Int}(undef, codes)\n",
    "using_counter_array = Array{Int}(undef, codes)\n",
    "\n",
    "# iterate through each element of each array of each code cell, counting the key words and adding them to \n",
    "# corresponding arrays\n",
    "for i in 1:codes\n",
    "    position = Int64(code_cell_positions[i])\n",
    "    return_counter = 0\n",
    "    for_counter, if_counter, using_counter = 0,0,0\n",
    "    for j in 1:code_linecounts[i]\n",
    "        return_counter = return_counter + count(\"return\", cells[position][\"source\"][j])\n",
    "        for_counter = for_counter + count(\"for\", cells[position][\"source\"][j])\n",
    "        if_counter = if_counter + count(\"if\", cells[position][\"source\"][j])\n",
    "        using_counter = using_counter + count(\"using\", cells[position][\"source\"][j])\n",
    "    end\n",
    "    # enter values into array corresponding to entire cell\n",
    "    return_counter_array[i] = return_counter\n",
    "    for_counter_array[i] = for_counter\n",
    "    if_counter_array[i] = if_counter\n",
    "    using_counter_array[i] = using_counter\n",
    "end\n",
    "\n",
    "# create arrays for the number of times hashtag strings appear in markdown cells\n",
    "hash1_counter_array = Array{Int}(undef, markdowns)\n",
    "hash2_counter_array = Array{Int}(undef, markdowns)\n",
    "hash3_counter_array = Array{Int}(undef, markdowns)\n",
    "hash4_counter_array = Array{Int}(undef, markdowns)\n",
    "\n",
    "# iterate through each element of each array of each markdown cell, counting hashtag strings and adding them to \n",
    "# corresponding arrays. \n",
    "for i in 1:markdowns\n",
    "    position = Int64(markdown_cell_positions[i])\n",
    "    hash1_counter, hash2_counter, hash3_counter, hash4_counter = 0,0,0,0\n",
    "    for j in 1:markdown_linecounts[i]\n",
    "        hash1_counter = hash1_counter + count(\"#\", cells[position][\"source\"][j])\n",
    "        hash2_counter = hash2_counter + count(\"##\", cells[position][\"source\"][j])\n",
    "        hash3_counter = hash3_counter + count(\"###\", cells[position][\"source\"][j])\n",
    "        hash4_counter = hash4_counter + count(\"####\", cells[position][\"source\"][j])\n",
    "    end\n",
    "    #The 1-hashtag, 2-hashtag and 3-hashtag arrays will also count the hashtags in greater strings: the \n",
    "    hash3_counter = hash3_counter - hash4_counter\n",
    "    hash2_counter = hash2_counter - hash3_counter - 2*hash4_counter\n",
    "    hash1_counter = hash1_counter - 2*hash2_counter - 3*hash3_counter - hash4_counter\n",
    "    # enter values into array corresponding to entire cell\n",
    "    hash1_counter_array[i] = hash1_counter\n",
    "    hash2_counter_array[i] = hash2_counter\n",
    "    hash3_counter_array[i] = hash3_counter\n",
    "    hash4_counter_array[i] = hash4_counter\n",
    "end\n",
    "\n",
    "markdown_df = DataFrame(cell_number = markdown_cell_positions, character_count = markdown_character_array, line_count = markdown_linecounts, single_hashes = hash1_counter_array, double_hashes = hash2_counter_array, triple_hashes = hash3_counter_array, quadruple_hashes = hash4_counter_array)\n",
    "\n",
    "code_df = DataFrame(cell_number = code_cell_positions, character_count = code_character_array, line_count = code_linecounts, return_frequency = return_counter_array, for_frequency = for_counter_array, if_frequency = if_counter_array, using_frequency = using_counter_array)\n",
    "\n",
    "CSV.write(\"markdown_summary.csv\", markdown_df)\n",
    "CSV.write(\"code_summary.csv\", code_df)\n",
    "\n",
    "@show first(markdown_df, 3)\n",
    "@show first(code_df, 3)"
   ]
  },
  {
   "cell_type": "markdown",
   "metadata": {},
   "source": [
    "---\n",
    "\n",
    "*Use this area below as an experimental playground for the question. Feel free to leave some of the experimental code here with your submision. However, it will not be marked or reviewed. Make sure in your submission that if there is any experimental code here then running it does not interfere with running the actual solutions.*\n",
    "\n",
    "---"
   ]
  },
  {
   "cell_type": "code",
   "execution_count": null,
   "metadata": {},
   "outputs": [],
   "source": []
  },
  {
   "cell_type": "code",
   "execution_count": null,
   "metadata": {},
   "outputs": [],
   "source": []
  },
  {
   "cell_type": "code",
   "execution_count": null,
   "metadata": {},
   "outputs": [],
   "source": []
  },
  {
   "cell_type": "code",
   "execution_count": null,
   "metadata": {},
   "outputs": [],
   "source": []
  }
 ],
 "metadata": {
  "kernelspec": {
   "display_name": "Julia 1.9.1",
   "language": "julia",
   "name": "julia-1.9"
  },
  "language_info": {
   "file_extension": ".jl",
   "mimetype": "application/julia",
   "name": "julia",
   "version": "1.9.1"
  }
 },
 "nbformat": 4,
 "nbformat_minor": 4
}
