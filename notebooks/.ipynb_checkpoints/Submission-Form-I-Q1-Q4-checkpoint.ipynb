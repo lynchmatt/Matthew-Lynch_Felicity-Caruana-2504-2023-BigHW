{
 "cells": [
  {
   "cell_type": "markdown",
   "metadata": {},
   "source": [
    "### MATH2504 S2, 2023, BigHW Submission \n",
    "### Submission form I of IV "
   ]
  },
  {
   "cell_type": "markdown",
   "metadata": {},
   "source": [
    "Student #1 name:\n",
    "\n",
    "Student #1 ID:\n",
    "\n",
    "Student #2 name:\n",
    "\n",
    "Student #2 ID:\n",
    "\n",
    "GitHub repo: "
   ]
  },
  {
   "cell_type": "markdown",
   "metadata": {},
   "source": [
    "## TEST CHANGE"
   ]
  },
  {
   "cell_type": "markdown",
   "metadata": {},
   "source": [
    "---\n",
    "\n",
    "**Note: It is expected that this notebook be runnable in the sense that the marker can select \"Restart & Run All\" and all code cells of solutions will execute. This requires not to have name clashes between solutions.**\n",
    "\n",
    "---"
   ]
  },
  {
   "cell_type": "markdown",
   "metadata": {},
   "source": [
    "# Solution to [Question 1](https://courses.smp.uq.edu.au/MATH2504/2023/assessment_html/bighw.html#q1)"
   ]
  },
  {
   "cell_type": "markdown",
   "metadata": {},
   "source": [
    "## 1a:"
   ]
  },
  {
   "cell_type": "markdown",
   "metadata": {},
   "source": [
    "Formula:\n",
    "$$ \\int_{0}^{\\infty} x^ne^{-x} dx = \\underbrace{-x^ne^{-x}\\big|_{0}^{\\infty}}_\\text{0} + n\\int_{0}^{\\infty}x^{n-1}e^{-x} dx $$\n",
    "\n",
    "For $n=2$:\n",
    "$$ \\int_{0}^{\\infty} x^2e^{-x} dx = \\underbrace{-x^2e^{-x}\\big|_{0}^{\\infty}}_\\text{0} + 2\\int_{0}^{\\infty}x^{1}e^{-x} dx $$\n",
    "\n",
    "$$ = \\underbrace{-x^2e^{-x}\\big|_{0}^{\\infty}}_\\text{0} + 2\\int_{0}^{\\infty}x^{1}e^{-x} dx $$\n",
    "$$ = \\underbrace{-x^2e^{-x}\\big|_{0}^{\\infty}}_\\text{0} + 2\\Big[\\underbrace{-xe^{-x}\\big|_{0}^{\\infty}}_\\text{0} + -e^{-x} +c \\Big] $$\n",
    "\n",
    "$$ = -2e^{-x} dx $$"
   ]
  },
  {
   "cell_type": "markdown",
   "metadata": {},
   "source": [
    "## 1b:"
   ]
  },
  {
   "cell_type": "markdown",
   "metadata": {},
   "source": [
    "### Five Programming Languages\n",
    "*  __C__: A general-purpose programming language originally developed to construct utilities running on Unix. It is widely used in systems programming, and is used to write other languages such as Python and PHP.\n",
    "*  __C++__: A low-level programming language based on C, used for developing desktop applications, web applications and game development.\n",
    "*  __Java__: Java is a high-level object-oriented language used for mobile development on Android, and for creating cross-platform desktop software.\n",
    "*  __Javascript__: A programming language widely used for both front-end and back-end web development, and additionally for mobile app development with React Native.\n",
    "*  __Python__: A versatile, beginner-friendly language that can be used for data analysis, data visualisation and machine learning."
   ]
  },
  {
   "cell_type": "markdown",
   "metadata": {},
   "source": [
    "## 1c:"
   ]
  },
  {
   "cell_type": "markdown",
   "metadata": {},
   "source": [
    "### Make this a markdown cell (also supports HTML) and answer 1c here (in place of this comment)\n",
    "<img src=\"https://images.unsplash.com/photo-1597848212624-a19eb35e2651?ixlib=rb-4.0.3&ixid=M3wxMjA3fDB8MHxleHBsb3JlLWZlZWR8MXx8fGVufDB8fHx8fA%3D%3D&auto=format&fit=crop&w=700&q=60\" width=512 height=682>"
   ]
  },
  {
   "cell_type": "markdown",
   "metadata": {},
   "source": [
    "# Solution to [Question 2](https://courses.smp.uq.edu.au/MATH2504/2023/assessment_html/bighw.html#q2)"
   ]
  },
  {
   "cell_type": "markdown",
   "metadata": {},
   "source": [
    "## 2a:"
   ]
  },
  {
   "cell_type": "markdown",
   "metadata": {},
   "source": [
    "#### 2a.1:"
   ]
  },
  {
   "cell_type": "code",
   "execution_count": null,
   "metadata": {},
   "outputs": [],
   "source": [
    "### Make this a markdown cell and answer 2a.1 here (in place of this comment)\n"
   ]
  },
  {
   "cell_type": "markdown",
   "metadata": {},
   "source": [
    "#### 2a.2:"
   ]
  },
  {
   "cell_type": "code",
   "execution_count": null,
   "metadata": {},
   "outputs": [],
   "source": [
    "### Make this a markdown cell and answer 2a.2 here (in place of this comment)"
   ]
  },
  {
   "cell_type": "markdown",
   "metadata": {},
   "source": [
    "#### 2a.3:"
   ]
  },
  {
   "cell_type": "code",
   "execution_count": null,
   "metadata": {},
   "outputs": [],
   "source": [
    "### Make this a markdown cell and answer 2a.3 here (in place of this comment)"
   ]
  },
  {
   "cell_type": "markdown",
   "metadata": {},
   "source": [
    "#### 2a.4:"
   ]
  },
  {
   "cell_type": "code",
   "execution_count": null,
   "metadata": {},
   "outputs": [],
   "source": [
    "### Make this a markdown cell and answer 2a.4 here (in place of this comment)"
   ]
  },
  {
   "cell_type": "markdown",
   "metadata": {},
   "source": [
    "#### 2a.5:"
   ]
  },
  {
   "cell_type": "code",
   "execution_count": null,
   "metadata": {},
   "outputs": [],
   "source": [
    "### Make this a markdown cell and answer 2a.5 here (in place of this comment)"
   ]
  },
  {
   "cell_type": "markdown",
   "metadata": {},
   "source": [
    "#### 2a.6:"
   ]
  },
  {
   "cell_type": "code",
   "execution_count": null,
   "metadata": {},
   "outputs": [],
   "source": [
    "### Make this a markdown cell and answer 2a.6 here (in place of this comment)"
   ]
  },
  {
   "cell_type": "markdown",
   "metadata": {},
   "source": [
    "#### 2a.7:"
   ]
  },
  {
   "cell_type": "code",
   "execution_count": null,
   "metadata": {},
   "outputs": [],
   "source": [
    "### Make this a markdown cell and answer 2a.7 here (in place of this comment)"
   ]
  },
  {
   "cell_type": "markdown",
   "metadata": {},
   "source": [
    "#### 2a.8:"
   ]
  },
  {
   "cell_type": "code",
   "execution_count": null,
   "metadata": {},
   "outputs": [],
   "source": [
    "### Make this a markdown cell and answer 2a.8 here (in place of this comment)"
   ]
  },
  {
   "cell_type": "markdown",
   "metadata": {},
   "source": [
    "#### 2a.9:"
   ]
  },
  {
   "cell_type": "code",
   "execution_count": null,
   "metadata": {},
   "outputs": [],
   "source": [
    "### Make this a markdown cell and answer 2a.9 here (in place of this comment)"
   ]
  },
  {
   "cell_type": "markdown",
   "metadata": {},
   "source": [
    "---"
   ]
  },
  {
   "cell_type": "markdown",
   "metadata": {},
   "source": [
    " ## 2b:"
   ]
  },
  {
   "cell_type": "markdown",
   "metadata": {},
   "source": [
    "#### 2b.1:"
   ]
  },
  {
   "cell_type": "code",
   "execution_count": null,
   "metadata": {},
   "outputs": [],
   "source": [
    "# Show the code for 2b.1 here"
   ]
  },
  {
   "cell_type": "markdown",
   "metadata": {},
   "source": [
    "#### 2b.2:"
   ]
  },
  {
   "cell_type": "code",
   "execution_count": null,
   "metadata": {},
   "outputs": [],
   "source": [
    "# Show the code for 2b.2 here"
   ]
  },
  {
   "cell_type": "markdown",
   "metadata": {},
   "source": [
    "#### 2b.3:"
   ]
  },
  {
   "cell_type": "code",
   "execution_count": null,
   "metadata": {},
   "outputs": [],
   "source": [
    "# Show the code for 2b.2 here"
   ]
  },
  {
   "cell_type": "markdown",
   "metadata": {},
   "source": [
    "## 2c:"
   ]
  },
  {
   "cell_type": "markdown",
   "metadata": {},
   "source": [
    "#### 2c.1:"
   ]
  },
  {
   "cell_type": "code",
   "execution_count": null,
   "metadata": {},
   "outputs": [],
   "source": [
    "### Make this a markdown cell and answer 2c.1 here (in place of this comment)"
   ]
  },
  {
   "cell_type": "markdown",
   "metadata": {},
   "source": [
    "#### 2c.2:"
   ]
  },
  {
   "cell_type": "code",
   "execution_count": null,
   "metadata": {},
   "outputs": [],
   "source": [
    "### Answer 2c.1 here (in place of this comment)"
   ]
  },
  {
   "cell_type": "markdown",
   "metadata": {},
   "source": [
    "#### 2c.3:"
   ]
  },
  {
   "cell_type": "code",
   "execution_count": null,
   "metadata": {},
   "outputs": [],
   "source": [
    "l"
   ]
  },
  {
   "cell_type": "markdown",
   "metadata": {},
   "source": [
    "#### 2c.4:"
   ]
  },
  {
   "cell_type": "code",
   "execution_count": null,
   "metadata": {},
   "outputs": [],
   "source": [
    "### Answer 2c.4 here (in place of this comment)"
   ]
  },
  {
   "cell_type": "markdown",
   "metadata": {},
   "source": [
    "#### 2c.5:"
   ]
  },
  {
   "cell_type": "code",
   "execution_count": null,
   "metadata": {},
   "outputs": [],
   "source": [
    "### Answer 2c.5 here (in place of this comment)"
   ]
  },
  {
   "cell_type": "markdown",
   "metadata": {},
   "source": [
    "## 2d:"
   ]
  },
  {
   "cell_type": "code",
   "execution_count": null,
   "metadata": {},
   "outputs": [],
   "source": [
    "### Answer 2d here (in place of this comment)"
   ]
  },
  {
   "cell_type": "markdown",
   "metadata": {},
   "source": [
    "---\n",
    "\n",
    "*Use this area below as an experimental playground for the question. Feel free to leave some of the experimental code here with your submision. However, it will not be marked or reviewed. Make sure in your submission that if there is any experimental code here then running it does not interfere with running the actual solutions.*\n",
    "\n",
    "---"
   ]
  },
  {
   "cell_type": "code",
   "execution_count": null,
   "metadata": {},
   "outputs": [],
   "source": []
  },
  {
   "cell_type": "code",
   "execution_count": null,
   "metadata": {},
   "outputs": [],
   "source": []
  },
  {
   "cell_type": "code",
   "execution_count": null,
   "metadata": {},
   "outputs": [],
   "source": []
  },
  {
   "cell_type": "markdown",
   "metadata": {},
   "source": [
    "# Solution to [Question 3](https://courses.smp.uq.edu.au/MATH2504/2023/assessment_html/bighw.html#q3)"
   ]
  },
  {
   "cell_type": "markdown",
   "metadata": {},
   "source": [
    "#### 3a:"
   ]
  },
  {
   "cell_type": "code",
   "execution_count": 2,
   "metadata": {},
   "outputs": [
    {
     "name": "stdout",
     "output_type": "stream",
     "text": [
      "Expression is correct for the random value 509\n",
      "Expression is correct for the random value 353\n",
      "Expression is correct for the random value 668\n",
      "Expression is correct for the random value 259\n",
      "Expression is correct for the random value 677\n",
      "Expression is correct for the random value 20\n",
      "Expression is correct for the random value 788\n",
      "Expression is correct for the random value 31\n",
      "Expression is correct for the random value 222\n",
      "Expression is correct for the random value 334\n",
      "Expression is correct for the random value 354\n",
      "Expression is correct for the random value 340\n",
      "Expression is correct for the random value 369\n",
      "Expression is correct for the random value 917\n",
      "Expression is correct for the random value 478\n",
      "Expression is correct for the random value 748\n",
      "Expression is correct for the random value 538\n",
      "Expression is correct for the random value 619\n",
      "Expression is correct for the random value 867\n",
      "Expression is correct for the random value 432\n"
     ]
    }
   ],
   "source": [
    "# This codes compares the results of Faulhaber's formula and the given expression when p=5 for 20 random values\n",
    "# up to 1000.\n",
    "\n",
    "# load packages\n",
    "using Random\n",
    "\n",
    "# create function for the original formula with a loop\n",
    "function faulhaber_formula(n)\n",
    "    faulhaber_formula_result = 0\n",
    "    for i in 1:n\n",
    "        faulhaber_formula_result = faulhaber_formula_result + i^5\n",
    "    end\n",
    "    return faulhaber_formula_result\n",
    "end\n",
    "\n",
    "\n",
    "# create a function of the expression given for when p=5\n",
    "function expression_p5(n)\n",
    "    expression_p5_result = (1//12)*(2*n^6 + 6*n^5 + 5*n^4 - n^2)\n",
    "    return expression_p5_result\n",
    "end\n",
    "\n",
    "\n",
    "# check if the functions match for each value in random_values\n",
    "function formula_checker(range)\n",
    "    # create 20 random values up to 1000 for checking\n",
    "    random_values = (rand(1:range, 20))\n",
    "    for j in random_values\n",
    "        if expression_p5(j) == faulhaber_formula(j)\n",
    "            println(\"Expression is correct for the random value \", j)\n",
    "        else\n",
    "            println(\"Expression is incorrect for the random value \", j)\n",
    "        end\n",
    "    end\n",
    "end\n",
    "\n",
    "formula_checker(1000)"
   ]
  },
  {
   "cell_type": "markdown",
   "metadata": {},
   "source": [
    "#### 3b:"
   ]
  },
  {
   "cell_type": "code",
   "execution_count": 3,
   "metadata": {},
   "outputs": [
    {
     "name": "stdout",
     "output_type": "stream",
     "text": [
      "Expression is incorrect for the random value 2966\n",
      "Expression is incorrect for the random value 2830\n",
      "Expression is correct for the random value 885\n",
      "Expression is correct for the random value 755\n",
      "Expression is incorrect for the random value 7242\n",
      "Expression is incorrect for the random value 6316\n",
      "Expression is incorrect for the random value 2295\n",
      "Expression is incorrect for the random value 5297\n",
      "Expression is incorrect for the random value 8923\n",
      "Expression is incorrect for the random value 6179\n",
      "Expression is incorrect for the random value 6941\n",
      "Expression is correct for the random value 402\n",
      "Expression is incorrect for the random value 2143\n",
      "Expression is correct for the random value 8216\n",
      "Expression is incorrect for the random value 4923\n",
      "Expression is incorrect for the random value 1866\n",
      "Expression is incorrect for the random value 9202\n",
      "Expression is incorrect for the random value 3494\n",
      "Expression is incorrect for the random value 8837\n",
      "Expression is incorrect for the random value 5054\n"
     ]
    }
   ],
   "source": [
    "# This codes compares the results of Faulhaber's formula and the given expression when p=5 for 20 random values\n",
    "# up to 10000.\n",
    "\n",
    "# load packages\n",
    "using Random\n",
    "\n",
    "# check if the functions match for each value in random_values\n",
    "formula_checker(10000)\n"
   ]
  },
  {
   "cell_type": "markdown",
   "metadata": {},
   "source": [
    "When n>1000, the function and the expression can sometimes differ. The functions may start returning negative sums due to stack overflow. When $n>1000$, the result becomes too large for the range of values supported by the variable type. Consequently, the result wraps around to the smallest possible supported value, making the output negative."
   ]
  },
  {
   "cell_type": "markdown",
   "metadata": {},
   "source": [
    "#### 3c:"
   ]
  },
  {
   "cell_type": "code",
   "execution_count": 6,
   "metadata": {},
   "outputs": [
    {
     "name": "stdout",
     "output_type": "stream",
     "text": [
      "Expression is correct for the random value 3704\n",
      "Expression is correct for the random value 4362\n",
      "Expression is correct for the random value 5858\n",
      "Expression is correct for the random value 8597\n",
      "Expression is correct for the random value 6560\n",
      "Expression is correct for the random value 9544\n",
      "Expression is correct for the random value 4499\n",
      "Expression is correct for the random value 7426\n",
      "Expression is correct for the random value 4147\n",
      "Expression is correct for the random value 3023\n",
      "Expression is correct for the random value 8532\n",
      "Expression is correct for the random value 2121\n",
      "Expression is correct for the random value 1229\n",
      "Expression is correct for the random value 2562\n",
      "Expression is correct for the random value 8720\n",
      "Expression is correct for the random value 3533\n",
      "Expression is correct for the random value 7469\n",
      "Expression is correct for the random value 4808\n",
      "Expression is correct for the random value 58\n",
      "Expression is correct for the random value 4874\n"
     ]
    }
   ],
   "source": [
    "# This code rewrites the functions in 3a using BigInt types and // for division.\n",
    "# create function for the original formula with a loop\n",
    "function faulhaber_formula_big(n)\n",
    "    faulhaber_formula_result = 0\n",
    "    for i in 1:n\n",
    "        faulhaber_formula_result = big(big(faulhaber_formula_result) + big(i)^5)\n",
    "    end\n",
    "    return faulhaber_formula_result\n",
    "end\n",
    "\n",
    "function expression_p5_big(n)\n",
    "    expression_result_big = big(big((1//6)*big(n)^6) + big((1//2)*big(n)^5) + big((5//12)big(n)^4) - big((5//60)*big(n)^2))\n",
    "    return expression_result_big\n",
    "end\n",
    "\n",
    "function formula_checker_big()\n",
    "    # create 20 random values up to 1000 for checking\n",
    "    random_values = (rand(1:10000, 20))\n",
    "    for j in random_values\n",
    "        if big(expression_p5_big(j)) == big(faulhaber_formula_big(j))\n",
    "            println(\"Expression is correct for the random value \", j)\n",
    "        else\n",
    "            println(\"Expression is incorrect for the random value \", j)\n",
    "        end\n",
    "    end\n",
    "end\n",
    "\n",
    "formula_checker_big()"
   ]
  },
  {
   "cell_type": "markdown",
   "metadata": {},
   "source": [
    "---\n",
    "\n",
    "*Use this area below as an experimental playground for the question. Feel free to leave some of the experimental code here with your submision. However, it will not be marked or reviewed. Make sure in your submission that if there is any experimental code here then running it does not interfere with running the actual solutions.*\n",
    "\n",
    "---"
   ]
  },
  {
   "cell_type": "code",
   "execution_count": 4,
   "metadata": {},
   "outputs": [
    {
     "name": "stdout",
     "output_type": "stream",
     "text": [
      "4953063029976737577825\n",
      "4953063029976737577825//1\n"
     ]
    }
   ],
   "source": [
    "function faulhaber_formula_big(n)\n",
    "    faulhaber_formula_result = 0\n",
    "    for i in 1:n\n",
    "        faulhaber_formula_result = big(big(faulhaber_formula_result) + big(i)^5)\n",
    "    end\n",
    "    return faulhaber_formula_result\n",
    "end\n",
    "\n",
    "println(faulhaber_formula_big(5565))\n",
    "\n",
    "function expression_p5_big(n)\n",
    "    expression_result_big = big(big((1//6)*big(n)^6) + big((1//2)*big(n)^5) + big((5//12)big(n)^4) - big((5//60)*big(n)^2))\n",
    "    return expression_result_big\n",
    "end\n",
    "\n",
    "println(expression_p5_big(5565))\n"
   ]
  },
  {
   "cell_type": "code",
   "execution_count": null,
   "metadata": {},
   "outputs": [],
   "source": [
    "BigInt(10^19)"
   ]
  },
  {
   "cell_type": "code",
   "execution_count": null,
   "metadata": {},
   "outputs": [],
   "source": []
  },
  {
   "cell_type": "markdown",
   "metadata": {},
   "source": [
    "# Solution to [Question 4](https://courses.smp.uq.edu.au/MATH2504/2023/assessment_html/bighw.html#q4)"
   ]
  },
  {
   "cell_type": "markdown",
   "metadata": {},
   "source": [
    "## 4a:"
   ]
  },
  {
   "cell_type": "code",
   "execution_count": null,
   "metadata": {},
   "outputs": [],
   "source": [
    "### Make this a markdown cell and answer 4a here (in place of this comment)"
   ]
  },
  {
   "cell_type": "markdown",
   "metadata": {},
   "source": [
    "## 4b:"
   ]
  },
  {
   "cell_type": "code",
   "execution_count": null,
   "metadata": {},
   "outputs": [],
   "source": [
    "### Answer 4b here (in place of this comment)"
   ]
  },
  {
   "cell_type": "markdown",
   "metadata": {},
   "source": [
    "## 4c:"
   ]
  },
  {
   "cell_type": "code",
   "execution_count": null,
   "metadata": {},
   "outputs": [],
   "source": [
    "### Answer 4c here (in place of this comment)"
   ]
  },
  {
   "cell_type": "markdown",
   "metadata": {},
   "source": [
    "---\n",
    "\n",
    "*Use this area below as an experimental playground for the question. Feel free to leave some of the experimental code here with your submision. However, it will not be marked or reviewed. Make sure in your submission that if there is any experimental code here then running it does not interfere with running the actual solutions.*\n",
    "\n",
    "---"
   ]
  },
  {
   "cell_type": "code",
   "execution_count": null,
   "metadata": {},
   "outputs": [],
   "source": []
  },
  {
   "cell_type": "code",
   "execution_count": null,
   "metadata": {},
   "outputs": [],
   "source": []
  },
  {
   "cell_type": "code",
   "execution_count": null,
   "metadata": {},
   "outputs": [],
   "source": []
  }
 ],
 "metadata": {
  "kernelspec": {
   "display_name": "Julia 1.9.1",
   "language": "julia",
   "name": "julia-1.9"
  },
  "language_info": {
   "file_extension": ".jl",
   "mimetype": "application/julia",
   "name": "julia",
   "version": "1.9.1"
  }
 },
 "nbformat": 4,
 "nbformat_minor": 4
}
