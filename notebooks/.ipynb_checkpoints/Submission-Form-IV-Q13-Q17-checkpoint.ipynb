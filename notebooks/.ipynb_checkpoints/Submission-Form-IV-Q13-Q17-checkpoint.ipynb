{
 "cells": [
  {
   "cell_type": "markdown",
   "metadata": {},
   "source": [
    "### MATH2504 S2, 2023, BigHW Submission \n",
    "### Submission form IV of IV "
   ]
  },
  {
   "cell_type": "markdown",
   "metadata": {},
   "source": [
    "Student #1 name: Matthew Lynch\n",
    "\n",
    "Student #1 ID: 47426557\n",
    "\n",
    "Student #2 name: Felicity Caruana\n",
    "\n",
    "Student #2 ID: 47425523\n",
    "\n",
    "GitHub repo: https://github.com/lynchmatt/Matthew-Lynch_Felicity-Caruana-2504-2023-BigHW"
   ]
  },
  {
   "cell_type": "markdown",
   "metadata": {},
   "source": [
    "---\n",
    "\n",
    "**Note: It is expected that this notebook be runnable in the sense that the marker can select \"Restart & Run All\" and all code cells of solutions will execute. This requires not to have name clashes between solutions.**\n",
    "\n",
    "---"
   ]
  },
  {
   "cell_type": "markdown",
   "metadata": {},
   "source": [
    "# Solution to [Question 13](https://courses.smp.uq.edu.au/MATH2504/2023/assessment_html/bighw.html#q13)"
   ]
  },
  {
   "cell_type": "markdown",
   "metadata": {},
   "source": [
    "## 13a:"
   ]
  },
  {
   "cell_type": "code",
   "execution_count": 8,
   "metadata": {},
   "outputs": [
    {
     "name": "stdout",
     "output_type": "stream",
     "text": [
      "For f1, the minimum error under the forward difference scheme is 1.2379932931384672e-10 and occurs when h is 1.1748975549395302e-8\n",
      "For f2, the minimum error under the forward difference scheme is 6.726927240060724e-11 and occurs when h is 8.511380382023759e-10\n",
      "For f3, the minimum error under the forward difference scheme is 2.8368829432677382e-9 and occurs when h is 5.248074602497734e-9\n",
      "For f1, the minimum error under the central difference scheme is 4.936240029333103e-15 and occurs when h is 4.073802778041131e-6\n",
      "For f2, the minimum error under the central difference scheme is 6.578961862390812e-13 and occurs when h is 4.365158322401657e-6\n",
      "For f3, the minimum error under the central difference scheme is 3.575328270900886e-9 and occurs when h is 0.002454708915685031\n"
     ]
    }
   ],
   "source": [
    "using Plots, LaTeXStrings\n",
    "\n",
    "# define functions to find numerical derivatives under the forward and central diff schemes\n",
    "diff_forward(f, x; h=sqrt(eps())) = (f(x+h)-f(x))/h\n",
    "diff_central(f, x; h=sqrt(eps())) = (f(x+(h/2))-f(x-(h/2)))/h\n",
    "\n",
    "# define the functions\n",
    "f1(x) = cos(x^2)\n",
    "f2(x) = exp(x^2)\n",
    "f3(x) = atan(x)/(1+exp(-4*x^2))\n",
    "\n",
    "# define the analytical derivatives for the above functions\n",
    "f1prime(x) = -sin(x^2)*2*x\n",
    "f2prime(x) = exp(x^2)*2*x\n",
    "f3prime(x) = (1+exp(-4*x^2)+8*exp(-4*x^2)*x*atan(x)*(x^2+1))/(x^2+1)*(1+exp(-4*x^2)^2)\n",
    "\n",
    "# one plot of the error of central diff, one as the error of forward diff\n",
    "h_range = 10 .^ (-14:0.01:-2)\n",
    "forward_error_f1 = [abs(diff_forward(f1, 1/2; h=h) - f1prime(1/2))/abs(f1prime(1/2)) for h in h_range]\n",
    "forward_error_f2 = [abs(diff_forward(f2, 1; h=h) - f2prime(1))/abs(f2prime(1)) for h in h_range]\n",
    "forward_error_f3 = [abs(diff_forward(f3, 2; h=h) - f3prime(2))/abs(f3prime(2)) for h in h_range]\n",
    "forward_error_plot = plot(h_range, [forward_error_f1, forward_error_f2, forward_error_f3], yaxis = :log, axis = :log)\n",
    "\n",
    "central_error_f1 = [abs(diff_central(f1, 1/2; h=h) - f1prime(1/2))/abs(f1prime(1/2)) for h in h_range]\n",
    "central_error_f2 = [abs(diff_central(f2, 1; h=h) - f2prime(1))/abs(f2prime(1)) for h in h_range]\n",
    "central_error_f3 = [abs(diff_central(f3, 2; h=h) - f3prime(2))/abs(f3prime(2)) for h in h_range]\n",
    "central_error_plot = plot(h_range, [central_error_f1, central_error_f2, central_error_f3], yaxis = :log, xaxis = :log)\n",
    "\n",
    "\n",
    "# find optimal h for foward differentiation scheme for each function\n",
    "h_f1_forward = h_range[argmin(forward_error_f1)] \n",
    "h_f2_forward = h_range[argmin(forward_error_f2)]\n",
    "h_f3_forwrd = h_range[argmin(forward_error_f3)] \n",
    "println(\"For f1, the minimum error under the forward difference scheme is $min_f1_forward and occurs when h is $h_f1_forward\")\n",
    "println(\"For f2, the minimum error under the forward difference scheme is $min_f2_forward and occurs when h is $h_f2_forward\")\n",
    "println(\"For f3, the minimum error under the forward difference scheme is $min_f3_forward and occurs when h is $h_f3_forward\")\n",
    "\n",
    "\n",
    "# find optimal h for central differentiation scheme for each function\n",
    "h_f1_central = h_range[argmin(central_error_f1)] \n",
    "h_f2_central = h_range[argmin(central_error_f2)]\n",
    "h_f3_central = h_range[argmin(central_error_f3)] \n",
    "println(\"For f1, the minimum error under the central difference scheme is $min_f1_central and occurs when h is $h_f1_central\")\n",
    "println(\"For f2, the minimum error under the central difference scheme is $min_f2_central and occurs when h is $h_f2_central\")\n",
    "println(\"For f3, the minimum error under the central difference scheme is $min_f3_central and occurs when h is $h_f3_central\")\n",
    "\n",
    "plot(forward_error_plot, central_error_plot, size = (1000,400))"
   ]
  },
  {
   "cell_type": "markdown",
   "metadata": {},
   "source": [
    "## 13b:"
   ]
  },
  {
   "cell_type": "markdown",
   "metadata": {},
   "source": [
    "For a vector $z$ of dimension $K$, the softmax function's Jacobian will be a matrix of $K\\times K$ dimensions.\n",
    "Under the forward difference scheme, the partial derivatives will be given by\n",
    "$$ S_j'(z_i) = \\frac{S(\\textbf{z}+he_i)-S(\\textbf{z})}{h} = J_{ij}$$\n",
    "\n",
    "The term $S(\\textbf{z}+he_i)$ will be different for each row of the Jacobian, so the softmax function must be done at least $K$ times for dimensions $K\\times K$.  The right term $S(\\textbf{z})$ will be the same between rows, and so needs to only be called once and can then be reused. Thus for the forward difference scheme, the softmax function has to be called $K+1$ times.\n",
    "\n",
    "Under the central difference scheme, the partial derivatives will be given by\n",
    "$$ S_j'(z_i) = \\frac{S(\\textbf{z}+ he_i/2)-S(\\textbf{z}-he_i/2)}{h} = J_{ij} $$\n",
    "\n",
    "The term $S(\\textbf{z}+he_i)$ will be different for each row of the Jacobian, so the softmax function must be done at least $K$ times for dimensions $K\\times K$. In the central difference scheme, the right term $S(\\textbf{z}-he_i)$ will also be different between rows. Thus for the forward difference scheme, the softmax function has to be called $2K$ times."
   ]
  },
  {
   "cell_type": "markdown",
   "metadata": {},
   "source": [
    "## 13c:"
   ]
  },
  {
   "cell_type": "code",
   "execution_count": 84,
   "metadata": {
    "scrolled": true
   },
   "outputs": [
    {
     "name": "stdout",
     "output_type": "stream",
     "text": [
      "exponents_z[i] = exponents_z[i] + h = 2\n",
      "2\n"
     ]
    },
    {
     "ename": "LoadError",
     "evalue": "MethodError: no method matching (Array{Float64})(::Int64)\n\n\u001b[0mClosest candidates are:\n\u001b[0m  (Array{T})(\u001b[91m::LinearAlgebra.AbstractQ\u001b[39m) where T\n\u001b[0m\u001b[90m   @\u001b[39m \u001b[36mLinearAlgebra\u001b[39m \u001b[90mC:\\Users\\1908l\\AppData\\Local\\Programs\\Julia-1.9.1\\share\\julia\\stdlib\\v1.9\\LinearAlgebra\\src\\\u001b[39m\u001b[90m\u001b[4mqr.jl:577\u001b[24m\u001b[39m\n\u001b[0m  (Array{T})(\u001b[91m::LinearAlgebra.LQPackedQ{T, S, C} where {S<:AbstractMatrix{T}, C<:AbstractVector{T}}\u001b[39m) where T\n\u001b[0m\u001b[90m   @\u001b[39m \u001b[36mLinearAlgebra\u001b[39m \u001b[90mC:\\Users\\1908l\\AppData\\Local\\Programs\\Julia-1.9.1\\share\\julia\\stdlib\\v1.9\\LinearAlgebra\\src\\\u001b[39m\u001b[90m\u001b[4mlq.jl:171\u001b[24m\u001b[39m\n\u001b[0m  (Array{T})(\u001b[91m::AbstractArray{S, N}\u001b[39m) where {T, N, S}\n\u001b[0m\u001b[90m   @\u001b[39m \u001b[90mCore\u001b[39m \u001b[90m\u001b[4mboot.jl:501\u001b[24m\u001b[39m\n\u001b[0m  ...\n",
     "output_type": "error",
     "traceback": [
      "MethodError: no method matching (Array{Float64})(::Int64)\n\n\u001b[0mClosest candidates are:\n\u001b[0m  (Array{T})(\u001b[91m::LinearAlgebra.AbstractQ\u001b[39m) where T\n\u001b[0m\u001b[90m   @\u001b[39m \u001b[36mLinearAlgebra\u001b[39m \u001b[90mC:\\Users\\1908l\\AppData\\Local\\Programs\\Julia-1.9.1\\share\\julia\\stdlib\\v1.9\\LinearAlgebra\\src\\\u001b[39m\u001b[90m\u001b[4mqr.jl:577\u001b[24m\u001b[39m\n\u001b[0m  (Array{T})(\u001b[91m::LinearAlgebra.LQPackedQ{T, S, C} where {S<:AbstractMatrix{T}, C<:AbstractVector{T}}\u001b[39m) where T\n\u001b[0m\u001b[90m   @\u001b[39m \u001b[36mLinearAlgebra\u001b[39m \u001b[90mC:\\Users\\1908l\\AppData\\Local\\Programs\\Julia-1.9.1\\share\\julia\\stdlib\\v1.9\\LinearAlgebra\\src\\\u001b[39m\u001b[90m\u001b[4mlq.jl:171\u001b[24m\u001b[39m\n\u001b[0m  (Array{T})(\u001b[91m::AbstractArray{S, N}\u001b[39m) where {T, N, S}\n\u001b[0m\u001b[90m   @\u001b[39m \u001b[90mCore\u001b[39m \u001b[90m\u001b[4mboot.jl:501\u001b[24m\u001b[39m\n\u001b[0m  ...\n",
      "",
      "Stacktrace:",
      " [1] softmax(z::Int64)",
      "   @ Main .\\In[84]:6",
      " [2] forward_difference_jacobian(exponents_z::Vector{Int64}, softmax_result::Vector{Float64}, h::Int64)",
      "   @ Main .\\In[84]:26",
      " [3] top-level scope",
      "   @ In[84]:52"
     ]
    }
   ],
   "source": [
    "### Answer 13b here (in place of this comment)\n",
    "\n",
    "# define the softmax function\n",
    "using LinearAlgebra\n",
    "\n",
    "function softmax(z)\n",
    "    z_exponents = Array{Float64}(length(z))\n",
    "    for i in z\n",
    "        z_exponents[i] = exp(i)\n",
    "    end\n",
    "    softmax_result = (1/sum(z_exponents)) .* [i for i in z_exponents]\n",
    "    return softmax_result\n",
    "end\n",
    "\n",
    "# define different z vectors, for different values of K\n",
    "z1 = [i^(1/3) for i in 1:10]\n",
    "z2 = [i^(1/3) for i in 1:20]\n",
    "z3 = [i^(1/3) for i in 1:100]\n",
    "\n",
    "# create the forward difference scheme matrix\n",
    "function forward_difference_jacobian(exponents_z, softmax_result, h)\n",
    "    forward_matrix = Array{Float64}(undef, length(exponents_z), length(exponents_z))\n",
    "    for i in 1:length(exponents_z)\n",
    "        @show exponents_z[i] = (exponents_z[i]+h)\n",
    "        println(exponents_z[i])\n",
    "        for j in 1:length(exponents_z)\n",
    "            forward_matrix[:,j] = (softmax(exponents_z[i]) .- softmax_result)/h\n",
    "        end\n",
    "    end\n",
    "end\n",
    "\n",
    "# create the central difference scheme matrix\n",
    "function central_difference_jacobian(z, softmax_result, h)\n",
    "    central_matrix = Array{Float64}(undef, length(z), length(z))\n",
    "end\n",
    "\n",
    "function explicit_jacobian(z, softmax_result)\n",
    "    explicit_matrix = Array{Float64}(undef, length(z), length(z))\n",
    "    for i in 1:length(z)\n",
    "        for j in 1:length(z)\n",
    "            if i == j\n",
    "                explicit_matrix[i,j] = softmax_result[i]*(1-softmax_result[i])\n",
    "            else\n",
    "                explicit_matrix[i,j] = -softmax_result[i]*softmax_result[j]\n",
    "            end\n",
    "        end\n",
    "    end\n",
    "    return explicit_matrix\n",
    "end\n",
    "\n",
    "result_test = softmax([1,2,3])\n",
    "explicit_jacobian([1,2,3], result_test)\n",
    "forward_difference_jacobian([1,2,3], result_test, 1)\n",
    "# define the explicit Jacobian matrix"
   ]
  },
  {
   "cell_type": "markdown",
   "metadata": {},
   "source": [
    "---\n",
    "\n",
    "*Use this area below as an experimental playground for the question. Feel free to leave some of the experimental code here with your submision. However, it will not be marked or reviewed. Make sure in your submission that if there is any experimental code here then running it does not interfere with running the actual solutions.*\n",
    "\n",
    "---"
   ]
  },
  {
   "cell_type": "code",
   "execution_count": null,
   "metadata": {},
   "outputs": [],
   "source": []
  },
  {
   "cell_type": "code",
   "execution_count": null,
   "metadata": {},
   "outputs": [],
   "source": []
  },
  {
   "cell_type": "code",
   "execution_count": null,
   "metadata": {},
   "outputs": [],
   "source": []
  },
  {
   "cell_type": "markdown",
   "metadata": {},
   "source": [
    "# Solution to [Question 14](https://courses.smp.uq.edu.au/MATH2504/2023/assessment_html/bighw.html#q14)"
   ]
  },
  {
   "cell_type": "code",
   "execution_count": null,
   "metadata": {},
   "outputs": [],
   "source": [
    "### Answer 14 here (in place of this comment)"
   ]
  },
  {
   "cell_type": "markdown",
   "metadata": {},
   "source": [
    "---\n",
    "\n",
    "*Use this area below as an experimental playground for the question. Feel free to leave some of the experimental code here with your submision. However, it will not be marked or reviewed. Make sure in your submission that if there is any experimental code here then running it does not interfere with running the actual solutions.*\n",
    "\n",
    "---"
   ]
  },
  {
   "cell_type": "code",
   "execution_count": null,
   "metadata": {},
   "outputs": [],
   "source": []
  },
  {
   "cell_type": "code",
   "execution_count": null,
   "metadata": {},
   "outputs": [],
   "source": []
  },
  {
   "cell_type": "code",
   "execution_count": null,
   "metadata": {},
   "outputs": [],
   "source": []
  },
  {
   "cell_type": "markdown",
   "metadata": {},
   "source": [
    "# Solution to [Question 15](https://courses.smp.uq.edu.au/MATH2504/2023/assessment_html/bighw.html#q15)"
   ]
  },
  {
   "cell_type": "markdown",
   "metadata": {},
   "source": [
    "## 15a:"
   ]
  },
  {
   "cell_type": "code",
   "execution_count": null,
   "metadata": {},
   "outputs": [],
   "source": [
    "### Answer 15a here (in place of this comment)"
   ]
  },
  {
   "cell_type": "markdown",
   "metadata": {},
   "source": [
    "## 15b:"
   ]
  },
  {
   "cell_type": "code",
   "execution_count": null,
   "metadata": {},
   "outputs": [],
   "source": [
    "### Answer 15b here (in place of this comment)"
   ]
  },
  {
   "cell_type": "markdown",
   "metadata": {},
   "source": [
    "## 15c:"
   ]
  },
  {
   "cell_type": "code",
   "execution_count": null,
   "metadata": {},
   "outputs": [],
   "source": [
    "### Answer 15c here (in place of this comment)"
   ]
  },
  {
   "cell_type": "markdown",
   "metadata": {},
   "source": [
    "## 15d:"
   ]
  },
  {
   "cell_type": "code",
   "execution_count": null,
   "metadata": {},
   "outputs": [],
   "source": [
    "### Answer 15d here (in place of this comment)"
   ]
  },
  {
   "cell_type": "markdown",
   "metadata": {},
   "source": [
    "---\n",
    "\n",
    "*Use this area below as an experimental playground for the question. Feel free to leave some of the experimental code here with your submision. However, it will not be marked or reviewed. Make sure in your submission that if there is any experimental code here then running it does not interfere with running the actual solutions.*\n",
    "\n",
    "---"
   ]
  },
  {
   "cell_type": "code",
   "execution_count": null,
   "metadata": {},
   "outputs": [],
   "source": []
  },
  {
   "cell_type": "code",
   "execution_count": null,
   "metadata": {},
   "outputs": [],
   "source": []
  },
  {
   "cell_type": "code",
   "execution_count": null,
   "metadata": {},
   "outputs": [],
   "source": []
  },
  {
   "cell_type": "markdown",
   "metadata": {},
   "source": [
    "# Solution to [Question 16](https://courses.smp.uq.edu.au/MATH2504/2023/assessment_html/bighw.html#q16)"
   ]
  },
  {
   "cell_type": "markdown",
   "metadata": {},
   "source": [
    "## 16a:"
   ]
  },
  {
   "cell_type": "code",
   "execution_count": null,
   "metadata": {},
   "outputs": [],
   "source": [
    "### Answer 16a here (in place of this comment)"
   ]
  },
  {
   "cell_type": "markdown",
   "metadata": {},
   "source": [
    "## 16b:"
   ]
  },
  {
   "cell_type": "code",
   "execution_count": null,
   "metadata": {},
   "outputs": [],
   "source": [
    "### Answer 16b here (in place of this comment)"
   ]
  },
  {
   "cell_type": "markdown",
   "metadata": {},
   "source": [
    "## 16c:"
   ]
  },
  {
   "cell_type": "code",
   "execution_count": null,
   "metadata": {},
   "outputs": [],
   "source": [
    "### Answer 16c here (in place of this comment)"
   ]
  },
  {
   "cell_type": "markdown",
   "metadata": {},
   "source": [
    "## 16d:"
   ]
  },
  {
   "cell_type": "code",
   "execution_count": null,
   "metadata": {},
   "outputs": [],
   "source": [
    "### Answer 16d here (in place of this comment)"
   ]
  },
  {
   "cell_type": "markdown",
   "metadata": {},
   "source": [
    "---\n",
    "\n",
    "*Use this area below as an experimental playground for the question. Feel free to leave some of the experimental code here with your submision. However, it will not be marked or reviewed. Make sure in your submission that if there is any experimental code here then running it does not interfere with running the actual solutions.*\n",
    "\n",
    "---"
   ]
  },
  {
   "cell_type": "code",
   "execution_count": null,
   "metadata": {},
   "outputs": [],
   "source": []
  },
  {
   "cell_type": "code",
   "execution_count": null,
   "metadata": {},
   "outputs": [],
   "source": []
  },
  {
   "cell_type": "code",
   "execution_count": null,
   "metadata": {},
   "outputs": [],
   "source": []
  },
  {
   "cell_type": "markdown",
   "metadata": {},
   "source": [
    "# Solution to [Question 17](https://courses.smp.uq.edu.au/MATH2504/2023/assessment_html/bighw.html#q17)"
   ]
  },
  {
   "cell_type": "markdown",
   "metadata": {},
   "source": [
    "In Dr Dawson’s seminar, she discussed her educational and career paths, and how she uses programming and mathematics in her line of work. Initially, she completed a Bachelor of Mechatronics at QUT. Although her undergraduate studies did not focus specifically on mathematics and software use, she uses such tools heavily. She has gained on-the-job experience in cloud computing, Julia, Python, MATLAB and C++, among others.\n",
    "\n",
    "After completing her undergraduate studies, she undertook an internship at CSIRO, during which she worked to develop an autonomous vision-based target detection system for an underwater vehicle.  A key point she made was that the language that’s best for writing in may not be the best language for actually executing the program; languages that are easy to code in may take longer to execute than less-intuitive languages. However, she said that Julia is appealing because it can be both easy to use and easily implemented. Knowing that Julia is actually a key tool used in research and industry does make the difficulty of this course feel worth it.\n",
    "\n",
    "Following her work at CSIRO, she completed a PhD at UQ, which focused on statistical analysis of orientation and TDOA-based geolocation estimation – in doing this, she had to answer key questions about how position estimates are generated, such as how predictors perform in different situations, if a solution can be generated and how accurate this solution is. After completing her PhD, she worked at multiple positions, including for Shell, Origin Energy and Boeing.\n",
    "\n",
    "Dr Dawson currently works at Fugro, a leading company in the energy, infrastructure and water markets. In this position, she works as a team lead in Fugro Roames, which assesses and monitors powerline infrastructure over a large area for clients. Her team is responsible for taking the data gathered via LIDAR and autonomously classifying the physical structures, which creates a 3D image of the area. A key point I picked up is that a significant part of many of her jobs is being able to predict and fix complications in a solution she’s created for a given problem. For example, she and her team at Fugro need to be able to identify and deal with the risks and uncertainties associated with taking a single LIDAR scan of an area that may change over time. As I continue in my studies and career, I think it will be useful to remember that coming up with a solution – whether it be programmatic or mathematic in nature – is only the first step in solving real-world problems. In reality, much more work is done in fixing things as they break and improving on existing solutions.\n"
   ]
  }
 ],
 "metadata": {
  "kernelspec": {
   "display_name": "Julia 1.9.1",
   "language": "julia",
   "name": "julia-1.9"
  },
  "language_info": {
   "file_extension": ".jl",
   "mimetype": "application/julia",
   "name": "julia",
   "version": "1.9.1"
  }
 },
 "nbformat": 4,
 "nbformat_minor": 4
}
