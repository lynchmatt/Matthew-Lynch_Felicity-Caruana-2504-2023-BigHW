{
 "cells": [
  {
   "cell_type": "markdown",
   "metadata": {},
   "source": [
    "### MATH2504 S2, 2023, BigHW Submission \n",
    "### Submission form II of IV "
   ]
  },
  {
   "cell_type": "markdown",
   "metadata": {},
   "source": [
    "Student #1 name: Matthew Lynch\n",
    "\n",
    "Student #1 ID: 47426557\n",
    "\n",
    "Student #2 name: Felicity Caruana\n",
    "\n",
    "Student #2 ID: 47425523\n",
    "\n",
    "GitHub repo: https://github.com/lynchmatt/Matthew-Lynch_Felicity-Caruana-2504-2023-BigHW"
   ]
  },
  {
   "cell_type": "markdown",
   "metadata": {},
   "source": [
    "---\n",
    "\n",
    "**Note: It is expected that this notebook be runnable in the sense that the marker can select \"Restart & Run All\" and all code cells of solutions will execute. This requires not to have name clashes between solutions.**\n",
    "\n",
    "---"
   ]
  },
  {
   "cell_type": "markdown",
   "metadata": {},
   "source": [
    "# Solution to [Question 5](https://courses.smp.uq.edu.au/MATH2504/2023/assessment_html/bighw.html#q5)"
   ]
  },
  {
   "cell_type": "markdown",
   "metadata": {},
   "source": [
    "## 5a:"
   ]
  },
  {
   "cell_type": "code",
   "execution_count": null,
   "metadata": {},
   "outputs": [],
   "source": [
    "### This code finds all the abundant numbers from 1 to 200, using divisors() from Primes.jl\n",
    "\n",
    "import Pkg; Pkg.add(\"Primes\")\n",
    "using Primes\n",
    "\n",
    "function abundant_finder_1()\n",
    "    for i in 1:200\n",
    "        div = divisors(i)\n",
    "        total = sum(div) - i\n",
    "        if total > i\n",
    "            println(\"Abundant number found: \", i)\n",
    "        else\n",
    "            continue\n",
    "        end\n",
    "    end\n",
    "end\n",
    "\n",
    "abundant_finder_1()"
   ]
  },
  {
   "cell_type": "markdown",
   "metadata": {},
   "source": [
    "## 5b:"
   ]
  },
  {
   "cell_type": "code",
   "execution_count": null,
   "metadata": {},
   "outputs": [],
   "source": [
    "### This code makes a function to find divisors of a number, then implements it to find the abundant numbers \n",
    "### up to 200.\n",
    "\n",
    "function my_divisor_finder(n)\n",
    "    divlist = [i for i in 1:200 if n % i ==0]\n",
    "    return divlist\n",
    "end\n",
    "\n",
    "# Now make another abundant number-finder, using the new divisor function my_divisor_finder\n",
    "\n",
    "function abundant_finder_2()\n",
    "    for i in 1:200\n",
    "        divlist = my_divisor_finder(i)\n",
    "        total = sum(divlist) - i\n",
    "        if total > i\n",
    "            println(\"Abundant number found: \", i)\n",
    "        else\n",
    "            continue\n",
    "        end\n",
    "    end\n",
    "end\n",
    "\n",
    "abundant_finder_2()"
   ]
  },
  {
   "cell_type": "markdown",
   "metadata": {},
   "source": [
    "---\n",
    "\n",
    "*Use this area below as an experimental playground for the question. Feel free to leave some of the experimental code here with your submision. However, it will not be marked or reviewed. Make sure in your submission that if there is any experimental code here then running it does not interfere with running the actual solutions.*\n",
    "\n",
    "---"
   ]
  },
  {
   "cell_type": "code",
   "execution_count": null,
   "metadata": {},
   "outputs": [],
   "source": []
  },
  {
   "cell_type": "code",
   "execution_count": null,
   "metadata": {},
   "outputs": [],
   "source": []
  },
  {
   "cell_type": "code",
   "execution_count": null,
   "metadata": {},
   "outputs": [],
   "source": []
  },
  {
   "cell_type": "markdown",
   "metadata": {},
   "source": [
    "# Solution to [Question 6](https://courses.smp.uq.edu.au/MATH2504/2023/assessment_html/bighw.html#q6)"
   ]
  },
  {
   "cell_type": "code",
   "execution_count": null,
   "metadata": {},
   "outputs": [],
   "source": [
    "### Answer 6 here (in place of this comment)"
   ]
  },
  {
   "cell_type": "markdown",
   "metadata": {},
   "source": [
    "---\n",
    "\n",
    "*Use this area below as an experimental playground for the question. Feel free to leave some of the experimental code here with your submision. However, it will not be marked or reviewed. Make sure in your submission that if there is any experimental code here then running it does not interfere with running the actual solutions.*\n",
    "\n",
    "---"
   ]
  },
  {
   "cell_type": "code",
   "execution_count": null,
   "metadata": {},
   "outputs": [],
   "source": []
  },
  {
   "cell_type": "code",
   "execution_count": null,
   "metadata": {},
   "outputs": [],
   "source": []
  },
  {
   "cell_type": "code",
   "execution_count": null,
   "metadata": {},
   "outputs": [],
   "source": []
  },
  {
   "cell_type": "code",
   "execution_count": null,
   "metadata": {},
   "outputs": [],
   "source": []
  },
  {
   "cell_type": "markdown",
   "metadata": {},
   "source": [
    "# Solution to [Question 7](https://courses.smp.uq.edu.au/MATH2504/2023/assessment_html/bighw.html#q7)"
   ]
  },
  {
   "cell_type": "markdown",
   "metadata": {},
   "source": [
    "## 7a:"
   ]
  },
  {
   "cell_type": "code",
   "execution_count": 1,
   "metadata": {},
   "outputs": [
    {
     "data": {
      "text/plain": [
       "(0:1:600, 0:10)"
      ]
     },
     "execution_count": 1,
     "metadata": {},
     "output_type": "execute_result"
    }
   ],
   "source": [
    "### Answer 7a here (in place of this comment)\n",
    "# install packages (REMEMBER TO UNCOMMENT)\n",
    "# import Pkg; Pkg.add(\"Measures\")\n",
    "# import Pkg; Pkg.add(\"Plots\")\n",
    "# import Pkg; Pkg.add(\"LaTeXStrings\")\n",
    "using Plots, LaTeXStrings, Measures\n",
    "\n",
    "# define sequences\n",
    "fn1(n) = 1 - 1/√(20n)\n",
    "fn2(n) = 1 - exp(-(n-1)/50)\n",
    "fn3(n) = max(min(1, n/600 + 0.2),0)\n",
    "fn4(n) = 1/(1+exp(-(n - 100)/200))\n",
    "\n",
    "\n",
    "# define domain and range\n",
    "xVals, yVals = 0:1:600, 0:10\n",
    "\n",
    "# plot sequences REMEMBER TO UNCOMMENT\n",
    "# plot(xVals, [fn1.(xVals), fn2.(xVals), fn3.(xVals), fn4.(xVals)], \n",
    "#    label=[\"Function 1\" \"Function 2\" \"Function 3\" \"Function 4\"], \n",
    "#    seriestype=:scatter, m=(:dot, 2), markerstrokewidth=0, ma=0.5,\n",
    "#    title=\"Functions\")"
   ]
  },
  {
   "cell_type": "markdown",
   "metadata": {},
   "source": [
    "## 7b:"
   ]
  },
  {
   "cell_type": "code",
   "execution_count": 62,
   "metadata": {},
   "outputs": [
    {
     "name": "stdout",
     "output_type": "stream",
     "text": [
      "Smallest n where fn1 is greater than 0.2 is 1.\n",
      "Smallest n where fn1 is greater than 0.4 is 1.\n",
      "Smallest n where fn1 is greater than 0.6 is 1.\n",
      "Smallest n where fn1 is greater than 0.8 is 2.\n",
      "\n",
      "Smallest n where fn2 is greater than 0.2 is 13.\n",
      "Smallest n where fn2 is greater than 0.4 is 27.\n",
      "Smallest n where fn2 is greater than 0.6 is 47.\n",
      "Smallest n where fn2 is greater than 0.8 is 82.\n",
      "\n",
      "Smallest n where fn3 is greater than 0.2 is 0.\n",
      "Smallest n where fn3 is greater than 0.4 is 120.\n",
      "Smallest n where fn3 is greater than 0.6 is 240.\n",
      "Smallest n where fn3 is greater than 0.8 is 360.\n",
      "\n",
      "Smallest n where fn4 is greater than 0.2 is 0.\n",
      "Smallest n where fn4 is greater than 0.4 is 19.\n",
      "Smallest n where fn4 is greater than 0.6 is 182.\n",
      "Smallest n where fn4 is greater than 0.8 is 378.\n",
      "\n"
     ]
    }
   ],
   "source": [
    "## This code makes a function that finds the smallest n where f(n) is greater than a target number.\n",
    "\n",
    "function find_n_basic(f::Function, target::Number)\n",
    "    n = 0\n",
    "    while f(n) < target\n",
    "        n = n + 1\n",
    "    end\n",
    "    println(\"Smallest n where $f is greater than $target is $n.\")\n",
    "end\n",
    "\n",
    "# create lists for easy iteration of each function over different example target values\n",
    "functions = [fn1, fn2, fn3, fn4]\n",
    "example_values = [0.2, 0.4, 0.6, 0.8]\n",
    "\n",
    "for f in functions\n",
    "    for v in example_values\n",
    "        find_n_basic(f, v)\n",
    "    end\n",
    "    println()\n",
    "end"
   ]
  },
  {
   "cell_type": "markdown",
   "metadata": {},
   "source": [
    "## 7c:"
   ]
  },
  {
   "cell_type": "code",
   "execution_count": 63,
   "metadata": {},
   "outputs": [
    {
     "name": "stdout",
     "output_type": "stream",
     "text": [
      "Smallest n where fn1 is greater than 0.2 is 1.\n",
      "Smallest n where fn1 is greater than 0.4 is 1.\n",
      "Smallest n where fn1 is greater than 0.6 is 1.\n",
      "Smallest n where fn1 is greater than 0.8 is 2.\n",
      "\n",
      "Smallest n where fn2 is greater than 0.2 is 13.\n",
      "Smallest n where fn2 is greater than 0.4 is 27.\n",
      "Smallest n where fn2 is greater than 0.6 is 47.\n",
      "Smallest n where fn2 is greater than 0.8 is 82.\n",
      "\n",
      "Smallest n where fn3 is greater than 0.2 is 0.\n",
      "Smallest n where fn3 is greater than 0.4 is 120.\n",
      "Smallest n where fn3 is greater than 0.6 is 240.\n",
      "Smallest n where fn3 is greater than 0.8 is 360.\n",
      "\n",
      "Smallest n where fn4 is greater than 0.2 is 0.\n",
      "Smallest n where fn4 is greater than 0.4 is 19.\n",
      "Smallest n where fn4 is greater than 0.6 is 182.\n",
      "Smallest n where fn4 is greater than 0.8 is 378.\n",
      "\n"
     ]
    }
   ],
   "source": [
    "### Answer 7c here (in place of this comment)\n",
    "function find_n_geometric(f::Function, target::Number)\n",
    "    n = 0\n",
    "    if f(n) >= target\n",
    "        println(\"Smallest n where $f is greater than $target is $(n).\")\n",
    "    else\n",
    "        n = 1\n",
    "        exponent = 1\n",
    "        while f(n) < target\n",
    "            n = 2^(exponent)\n",
    "            exponent = exponent+1\n",
    "        end\n",
    "    while f(n) >= target\n",
    "        n = n-1\n",
    "    end\n",
    "    println(\"Smallest n where $f is greater than $target is $(n+1).\")\n",
    "    end \n",
    "end\n",
    "\n",
    "for f in functions\n",
    "    for v in example_values\n",
    "        find_n_geometric(f, v)\n",
    "    end\n",
    "    println()\n",
    "end"
   ]
  },
  {
   "cell_type": "markdown",
   "metadata": {},
   "source": [
    "## 7d:"
   ]
  },
  {
   "cell_type": "code",
   "execution_count": null,
   "metadata": {},
   "outputs": [],
   "source": [
    "# iterative binary search\n",
    "function binary_search(f:: Function, exponent::Number, target::Number)\n",
    "    low = 2^(exponent)\n",
    "    high = 2^(exponent+1)\n",
    "    mid = (low+high)/2\n",
    "    while (high-low) >= 1\n",
    "        mid = (low+high)/2\n",
    "        if target == f(mid)\n",
    "            println(\"Smallest n where $f is greater than $target is \", mid)\n",
    "            return mid\n",
    "        elseif f(mid) < target\n",
    "            low = mid\n",
    "        else\n",
    "            high = mid\n",
    "        end\n",
    "    end\n",
    "    if f(floor(mid)) > target && f(ceil(mid)) > target\n",
    "        println(\"Smallest n where $f is greater than $target is \", floor(mid))\n",
    "    elseif f(floor(mid)) < target && f(ceil(mid)) > target\n",
    "        println(\"Smallest n where $f is greater than $target is \", ceil(mid))\n",
    "    end\n",
    "end\n",
    "\n",
    "# function using binary search\n",
    "function find_n_fast(f::Function, target::Number)\n",
    "    n = 0\n",
    "    if f(n) >= target\n",
    "        println(\"Smallestwhere $f is greater than $target is $(n).\")\n",
    "        return target\n",
    "    else\n",
    "        n = 1\n",
    "        if f(n) >= target\n",
    "            println(\"Smallest n where $f is greater than $target is $(n).\")\n",
    "            return target\n",
    "        else\n",
    "            exponent = 1\n",
    "            while (f(n) < target) && (f(2^(exponent+1)) < target)\n",
    "                exponent = exponent+1\n",
    "                n = 2^exponent\n",
    "            end\n",
    "            binary_search(f, exponent, target)\n",
    "        end\n",
    "    end\n",
    "end\n",
    "\n",
    "for f in functions\n",
    "    for v in example_values\n",
    "        find_n_fast(f, v)\n",
    "    end\n",
    "    println()\n",
    "end"
   ]
  },
  {
   "cell_type": "markdown",
   "metadata": {},
   "source": [
    "---\n",
    "\n",
    "*Use this area below as an experimental playground for the question. Feel free to leave some of the experimental code here with your submision. However, it will not be marked or reviewed. Make sure in your submission that if there is any experimental code here then running it does not interfere with running the actual solutions.*\n",
    "\n",
    "---"
   ]
  },
  {
   "cell_type": "code",
   "execution_count": null,
   "metadata": {},
   "outputs": [],
   "source": []
  },
  {
   "cell_type": "code",
   "execution_count": null,
   "metadata": {},
   "outputs": [],
   "source": []
  },
  {
   "cell_type": "code",
   "execution_count": null,
   "metadata": {},
   "outputs": [],
   "source": []
  },
  {
   "cell_type": "markdown",
   "metadata": {},
   "source": [
    "# Solution to [Question 8](https://courses.smp.uq.edu.au/MATH2504/2023/assessment_html/bighw.html#q8)"
   ]
  },
  {
   "cell_type": "markdown",
   "metadata": {},
   "source": [
    "## 8a:"
   ]
  },
  {
   "cell_type": "code",
   "execution_count": null,
   "metadata": {},
   "outputs": [],
   "source": [
    "### Answer 8a here (in place of this comment)"
   ]
  },
  {
   "cell_type": "markdown",
   "metadata": {},
   "source": [
    "## 8b:"
   ]
  },
  {
   "cell_type": "code",
   "execution_count": null,
   "metadata": {},
   "outputs": [],
   "source": [
    "### Answer 8b here (in place of this comment)"
   ]
  },
  {
   "cell_type": "markdown",
   "metadata": {},
   "source": [
    "## 8c:"
   ]
  },
  {
   "cell_type": "code",
   "execution_count": null,
   "metadata": {},
   "outputs": [],
   "source": [
    "### Answer 8c here (in place of this comment)"
   ]
  },
  {
   "cell_type": "markdown",
   "metadata": {},
   "source": [
    "## 8d:"
   ]
  },
  {
   "cell_type": "code",
   "execution_count": null,
   "metadata": {},
   "outputs": [],
   "source": [
    "### Answer 8d here (in place of this comment)"
   ]
  },
  {
   "cell_type": "markdown",
   "metadata": {},
   "source": [
    "---\n",
    "\n",
    "*Use this area below as an experimental playground for the question. Feel free to leave some of the experimental code here with your submision. However, it will not be marked or reviewed. Make sure in your submission that if there is any experimental code here then running it does not interfere with running the actual solutions.*\n",
    "\n",
    "---"
   ]
  },
  {
   "cell_type": "code",
   "execution_count": null,
   "metadata": {},
   "outputs": [],
   "source": []
  },
  {
   "cell_type": "code",
   "execution_count": null,
   "metadata": {},
   "outputs": [],
   "source": []
  },
  {
   "cell_type": "code",
   "execution_count": null,
   "metadata": {},
   "outputs": [],
   "source": []
  },
  {
   "cell_type": "markdown",
   "metadata": {},
   "source": [
    "# Solution to [Question 9](https://courses.smp.uq.edu.au/MATH2504/2023/assessment_html/bighw.html#q9)"
   ]
  },
  {
   "cell_type": "markdown",
   "metadata": {},
   "source": [
    "## 9a:"
   ]
  },
  {
   "cell_type": "code",
   "execution_count": 167,
   "metadata": {},
   "outputs": [
    {
     "data": {
      "text/plain": [
       "2×2 Matrix{Float64}:\n",
       " 2.0  6.0\n",
       " 4.0  3.0"
      ]
     },
     "metadata": {},
     "output_type": "display_data"
    },
    {
     "data": {
      "text/plain": [
       "2×2 Matrix{Float64}:\n",
       " 9.0  3.0\n",
       " 1.0  6.0"
      ]
     },
     "metadata": {},
     "output_type": "display_data"
    },
    {
     "data": {
      "text/plain": [
       "2×2 Matrix{Float64}:\n",
       " 24.0  42.0\n",
       " 39.0  30.0"
      ]
     },
     "metadata": {},
     "output_type": "display_data"
    },
    {
     "data": {
      "text/plain": [
       "2×2 Matrix{Float64}:\n",
       " 24.0  42.0\n",
       " 39.0  30.0"
      ]
     },
     "metadata": {},
     "output_type": "display_data"
    }
   ],
   "source": [
    "# Function for matrix multiplication via linear combination of \n",
    "# columns.\n",
    "function my_mult_by_cols(A,B)\n",
    "    rowsA, columnsA = size(A)\n",
    "    rowsB, columnsB = size(B)\n",
    "    # make sures columnsA = rowsB\n",
    "    @assert columnsA == rowsB\n",
    "    # initialise C\n",
    "    C = zeros(rowsA, columnsB)\n",
    "    for j in 1:columnsB\n",
    "        C[:,j] = sum(B[i,j]*A[:,i] for i in 1:rowsB)\n",
    "    end\n",
    "    return C\n",
    "end\n",
    "\n",
    "# Set random matrices A and B as examples\n",
    "using LinearAlgebra\n",
    "using Random\n",
    "#Random.seed!(0)\n",
    "A = round.(10*rand(2,2)) # gives a 2x3 matrix\n",
    "B = round.(10*rand(2,2)) # gives a 3x4 matrix\n",
    "display(A*B)\n",
    "\n",
    "# check the function works\n",
    "display(my_mult_by_cols(A,B))"
   ]
  },
  {
   "cell_type": "markdown",
   "metadata": {},
   "source": [
    "## 9b:"
   ]
  },
  {
   "cell_type": "code",
   "execution_count": 169,
   "metadata": {},
   "outputs": [
    {
     "data": {
      "text/plain": [
       "2×2 Matrix{Float64}:\n",
       " 24.0  42.0\n",
       " 39.0  30.0"
      ]
     },
     "metadata": {},
     "output_type": "display_data"
    },
    {
     "data": {
      "text/plain": [
       "2×2 Matrix{Float64}:\n",
       " 24.0  42.0\n",
       " 39.0  30.0"
      ]
     },
     "metadata": {},
     "output_type": "display_data"
    }
   ],
   "source": [
    "# Function for matrix multiplication via linear combination of \n",
    "# rows\n",
    "\n",
    "function my_mult_by_rows(A,B)\n",
    "    rowsA, columnsA = size(A)\n",
    "    rowsB, columnsB = size(B)\n",
    "    # make sures columnsA = rowsB\n",
    "    @assert columnsA == rowsB\n",
    "    # initialise C\n",
    "    C = zeros(rowsA, columnsB)\n",
    "    for i in 1:rowsA\n",
    "        C[i,:] = sum(B[j,:]*A[i,j] for j in 1:columnsA)\n",
    "    end\n",
    "    return C\n",
    "end\n",
    "\n",
    "# check the function works\n",
    "display(A*B)\n",
    "display(my_mult_by_rows(A,B))"
   ]
  },
  {
   "cell_type": "markdown",
   "metadata": {},
   "source": [
    "## 9c:"
   ]
  },
  {
   "cell_type": "code",
   "execution_count": 181,
   "metadata": {},
   "outputs": [
    {
     "data": {
      "text/plain": [
       "2×2 Matrix{Float64}:\n",
       " 24.0  42.0\n",
       " 39.0  30.0"
      ]
     },
     "execution_count": 181,
     "metadata": {},
     "output_type": "execute_result"
    }
   ],
   "source": [
    "### Function to \n",
    "function my_mult_outer_products(A,B)\n",
    "    rowsA, columnsA = size(A)\n",
    "    rowsB, columnsB = size(B)\n",
    "    # make sures columnsA = rowsB\n",
    "    @assert columnsA == rowsB\n",
    "    # initialise C\n",
    "    C = zeros(rowsA, columnsB)\n",
    "    sum = zeros(rowsA, columnsB)\n",
    "    iteration = zeros(rowsA, columnsB)\n",
    "    for j in 1:columnsA\n",
    "        iteration = A[:,j]*B[j,:]'\n",
    "        sum += iteration\n",
    "    end\n",
    "    return sum\n",
    "end\n",
    "\n",
    "my_mult_outer_products(A,B)"
   ]
  },
  {
   "cell_type": "markdown",
   "metadata": {},
   "source": [
    "## 9d:\n"
   ]
  },
  {
   "cell_type": "markdown",
   "metadata": {},
   "source": [
    "The efficiency of the various functions can be compared using Benchmark tools. This will time the functions, so we can see if a nested loop is any slower than using list comprehensions (as in 9a and 9b) or a single loop (as in 9c).\n",
    "\n",
    "The code below shows that my_mult_inner_products is not consistently faster or slower than the functions in 9a-c. Even when it's slower, it is often by less than a microsecond. Therefore, even though having a single loop is less complex, the functions without nested loops are not consistently or noticeable more efficient than my_mult_inner_products.\n",
    "\n",
    "Accessing elements in a matrix is O(1), but accessing many elements in a matrix can take different amounts of time based on the dimensions of the matrix. This is because the dimensions of the matrix changes where the elements of the matrix are physically stored in memory. As a result, accessing all the elements of a matrix can occur faster or slower depending on things such as whether the columns or rows are accessed first."
   ]
  },
  {
   "cell_type": "code",
   "execution_count": 193,
   "metadata": {},
   "outputs": [
    {
     "name": "stdout",
     "output_type": "stream",
     "text": [
      "  240.909 ns (9 allocations: 736 bytes)\n",
      "  476.471 ns (15 allocations: 1.19 KiB)\n",
      "  454.545 ns (11 allocations: 896 bytes)\n",
      "  323.438 ns (11 allocations: 992 bytes)\n"
     ]
    },
    {
     "data": {
      "text/plain": [
       "2×2 Matrix{Float64}:\n",
       " 24.0  42.0\n",
       " 39.0  30.0"
      ]
     },
     "execution_count": 193,
     "metadata": {},
     "output_type": "execute_result"
    }
   ],
   "source": [
    "# import packages\n",
    "# import Pkg; Pkg.add(\"BenchmarkTools\")\n",
    "using BenchmarkTools\n",
    "\n",
    "# copy the supplied code for multiplication by inner products\n",
    "function my_mult_inner_products(A,B)\n",
    "    nA,mA = size(A)\n",
    "    nB,mB = size(B)\n",
    "    @assert mA == nB\n",
    "    n, m, p = nA, mA, mB\n",
    "    C = Array{Float64}(undef,n,p)\n",
    "\n",
    "    for i in 1:n\n",
    "        for j in 1:p\n",
    "            C[i,j] = A[i,:]' * B[:,j] #compute inner product of i'th row of A and j'th column of B\n",
    "        end\n",
    "    end\n",
    "    return C\n",
    "end\n",
    "\n",
    "\n",
    "@btime my_mult_inner_products(A,B)\n",
    "@btime my_mult_by_cols(A,B)\n",
    "@btime my_mult_by_rows(A,B)\n",
    "@btime my_mult_outer_products(A,B)\n"
   ]
  },
  {
   "cell_type": "markdown",
   "metadata": {},
   "source": [
    "---\n",
    "\n",
    "*Use this area below as an experimental playground for the question. Feel free to leave some of the experimental code here with your submision. However, it will not be marked or reviewed. Make sure in your submission that if there is any experimental code here then running it does not interfere with running the actual solutions.*\n",
    "\n",
    "---"
   ]
  },
  {
   "cell_type": "code",
   "execution_count": 156,
   "metadata": {},
   "outputs": [
    {
     "data": {
      "text/plain": [
       "2×2 Matrix{Float64}:\n",
       " 4.0  4.0\n",
       " 6.0  6.0"
      ]
     },
     "metadata": {},
     "output_type": "display_data"
    },
    {
     "data": {
      "text/plain": [
       "2×2 Matrix{Float64}:\n",
       " 9.0  8.0\n",
       " 5.0  1.0"
      ]
     },
     "metadata": {},
     "output_type": "display_data"
    },
    {
     "data": {
      "text/plain": [
       "2×2 Matrix{Float64}:\n",
       " 56.0  36.0\n",
       " 84.0  54.0"
      ]
     },
     "metadata": {},
     "output_type": "display_data"
    },
    {
     "data": {
      "text/plain": [
       "2×2 Matrix{Float64}:\n",
       " 56.0  36.0\n",
       " 84.0  54.0"
      ]
     },
     "metadata": {},
     "output_type": "display_data"
    }
   ],
   "source": []
  },
  {
   "cell_type": "code",
   "execution_count": null,
   "metadata": {},
   "outputs": [],
   "source": []
  },
  {
   "cell_type": "code",
   "execution_count": null,
   "metadata": {},
   "outputs": [],
   "source": []
  }
 ],
 "metadata": {
  "kernelspec": {
   "display_name": "Julia 1.9.1",
   "language": "julia",
   "name": "julia-1.9"
  },
  "language_info": {
   "file_extension": ".jl",
   "mimetype": "application/julia",
   "name": "julia",
   "version": "1.9.1"
  }
 },
 "nbformat": 4,
 "nbformat_minor": 4
}
