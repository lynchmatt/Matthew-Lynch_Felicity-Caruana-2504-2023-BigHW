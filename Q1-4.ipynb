{
 "cells": [
  {
   "cell_type": "markdown",
   "metadata": {},
   "source": [
    "### MATH2504 S2, 2023, BigHW Submission \n",
    "### Submission form I of IV "
   ]
  },
  {
   "cell_type": "markdown",
   "metadata": {},
   "source": [
    "Student #1 name: Felicity Caruana\n",
    "\n",
    "Student #1 ID: 47425523\n",
    "\n",
    "Student #2 name:\n",
    "\n",
    "Student #2 ID:\n",
    "\n",
    "GitHub repo: "
   ]
  },
  {
   "cell_type": "markdown",
   "metadata": {},
   "source": [
    "---\n",
    "\n",
    "**Note: It is expected that this notebook be runnable in the sense that the marker can select \"Restart & Run All\" and all code cells of solutions will execute. This requires not to have name clashes between solutions.**\n",
    "\n",
    "---"
   ]
  },
  {
   "cell_type": "markdown",
   "metadata": {},
   "source": [
    "# Solution to [Question 1](https://courses.smp.uq.edu.au/MATH2504/2023/assessment_html/bighw.html#q1)"
   ]
  },
  {
   "cell_type": "markdown",
   "metadata": {},
   "source": [
    "## 1a:"
   ]
  },
  {
   "cell_type": "code",
   "execution_count": null,
   "metadata": {},
   "outputs": [],
   "source": [
    "### Make this a markdown cell and answer 1a here (in place of this comment)"
   ]
  },
  {
   "cell_type": "markdown",
   "metadata": {},
   "source": [
    "## 1b:"
   ]
  },
  {
   "cell_type": "code",
   "execution_count": null,
   "metadata": {},
   "outputs": [],
   "source": [
    "### Make this a markdown cell and put your 5 favorite books here (in place of this comment)"
   ]
  },
  {
   "cell_type": "markdown",
   "metadata": {},
   "source": [
    "## 1c:"
   ]
  },
  {
   "cell_type": "code",
   "execution_count": null,
   "metadata": {},
   "outputs": [],
   "source": [
    "### Make this a markdown cell (also supports HTML) and answer 1c here (in place of this comment)"
   ]
  },
  {
   "cell_type": "markdown",
   "metadata": {},
   "source": [
    "# Solution to [Question 2](https://courses.smp.uq.edu.au/MATH2504/2023/assessment_html/bighw.html#q2)"
   ]
  },
  {
   "cell_type": "markdown",
   "metadata": {},
   "source": [
    "## 2a:"
   ]
  },
  {
   "cell_type": "markdown",
   "metadata": {},
   "source": [
    "#### 2a.1:"
   ]
  },
  {
   "cell_type": "markdown",
   "metadata": {},
   "source": [
    "Yes the code would work without the *Number* type specification. \n",
    "\n",
    "If a variable type is not specified, Julia assigns the type as whatever is necessary to complete the code. \n",
    "\n",
    "In this case, when the code initialises an empty array, it specifies that the array is going to be filled with 64 bit floating point values. So it is not necessary to specify the variable type of a,b and c because *Float64* is a subtype of the *Number* variable in Julia. Thus when a,b and c are appended to the roots array, they become *Float64* type with or without the *Number* type specfication. "
   ]
  },
  {
   "cell_type": "markdown",
   "metadata": {},
   "source": [
    "#### 2a.2:"
   ]
  },
  {
   "cell_type": "markdown",
   "metadata": {},
   "source": [
    "*4ac* would not work because, without the operator, Julia reads *ac* as a new variable, which as not been defined in this code (hence the undefined variable error when the code tries to run).\n",
    "\n",
    "*4a* works because integers cannot be assigned as any other variable type other than some of the subtypes that fall under the *Number* type. Without specification, 4 defaults to the type *Int64*. Thus Julia can perform the multiplication operation because each variable is defined.\n"
   ]
  },
  {
   "cell_type": "markdown",
   "metadata": {},
   "source": [
    "#### 2a.3:"
   ]
  },
  {
   "cell_type": "markdown",
   "metadata": {},
   "source": [
    "This resulted in a syntax error. \n",
    "This is to be expected as the code would try to run the conditional block if the statemment (Δ = 0) is true. But since a single equals is an assignment operator, Julia cannot check the boolean value of the statement so a syntax error occurs."
   ]
  },
  {
   "cell_type": "markdown",
   "metadata": {},
   "source": [
    "#### 2a.4:"
   ]
  },
  {
   "cell_type": "markdown",
   "metadata": {},
   "source": [
    ".+ is an element wise addition operator meaning it adds the scalar -b to each element in the array [√Δ,-√Δ] (broadcasting). This results in the exact same mathematical statement as [-b + √Δ, -b - √Δ], hence this replacement works. However, when the dot is removed, the following error is displayed :\n",
    "\n",
    "\"MethodError: no method matching +(::Int64, ::Vector{Float64})\".\n",
    "\n",
    "Julia does not know how to perform (-b + [√Δ,-√Δ]) because there are two different variable types (-b is an integer and [√Δ,-√Δ] is a vector)."
   ]
  },
  {
   "cell_type": "markdown",
   "metadata": {},
   "source": [
    "#### 2a.5:"
   ]
  },
  {
   "cell_type": "markdown",
   "metadata": {},
   "source": [
    "The function still works without the return line because Julia defaults to return the last line evaluated in the function (in this case *roots*)."
   ]
  },
  {
   "cell_type": "markdown",
   "metadata": {},
   "source": [
    "#### 2a.6:"
   ]
  },
  {
   "cell_type": "markdown",
   "metadata": {},
   "source": [
    "When a is 0 or 0.0, Julia is asked to divide by 0.   When the roots are appended to the roots array, they are stored as type Float64. Thus when Julia performs this operation in the *else* conditional, it is a floating point operation. Thus inputting a=0 and a=0.0 will result in the same output. \n",
    "\n",
    "One root results in a division of zero by zero and Julia returns NaN. For the other root, Julia is asked to evaluate a real number divided by zero. If the real number was an integer, a error would be thrown, but because it is a floating point number, -Inf is returned."
   ]
  },
  {
   "cell_type": "markdown",
   "metadata": {},
   "source": [
    "#### 2a.7:"
   ]
  },
  {
   "cell_type": "markdown",
   "metadata": {},
   "source": [
    "As seen below, the error message displays when a nonquadratic is entered:"
   ]
  },
  {
   "cell_type": "code",
   "execution_count": 1,
   "metadata": {},
   "outputs": [
    {
     "data": {
      "text/plain": [
       "\"Error - this is not a quadratic equation\""
      ]
     },
     "execution_count": 1,
     "metadata": {},
     "output_type": "execute_result"
    }
   ],
   "source": [
    "function real_roots_of_quadratic(a::Number, b::Number, c::Number)\n",
    "\n",
    "    #Start by initializing an empty array\n",
    "    roots::Array{Float64} = []\n",
    "\n",
    "    #Compute the discriminant \n",
    "    Δ = b^2 - 4a*c #\\Delta + [TAB]\n",
    "    \n",
    "    #Error Check to ensure equation is actually quadratic\n",
    "    if a == 0\n",
    "        return \"Error - this is not a quadratic equation\"\n",
    "    end\n",
    "\n",
    "    #Based on the sign of the discriminant return 0, 1, or 2 roots.\n",
    "    if Δ < 0 \n",
    "        roots = []\n",
    "    elseif Δ == 0\n",
    "        roots = [-b/(2a)]\n",
    "    else\n",
    "        roots = [-b + √Δ, -b - √Δ] / (2a) #\\sqrt + [TAB]\n",
    "    end\n",
    "    return roots \n",
    "end\n",
    "\n",
    "#Attempting on -x²+5x-6=0\n",
    "real_roots_of_quadratic(0,5,-6)"
   ]
  },
  {
   "cell_type": "markdown",
   "metadata": {},
   "source": [
    "#### 2a.8:"
   ]
  },
  {
   "cell_type": "markdown",
   "metadata": {},
   "source": [
    "This error check also works. First, Julia checks that the statement a==0 is true. The operator && is equivalent to the logical and, so if a==0 is true, Julia reads the rest of the line and thus returns the error message."
   ]
  },
  {
   "cell_type": "markdown",
   "metadata": {},
   "source": [
    "#### 2a.9:"
   ]
  },
  {
   "cell_type": "markdown",
   "metadata": {},
   "source": [
    "Instead of returning a string, this error message uses the function throw that displays an error message already installed as a function in Julia, DomainError. It appears the DomainError function takes two inputs, the first being what argument causes the error (in this case *a*). This is then specified to the user. The next input is a string which displays the error message to the user."
   ]
  },
  {
   "cell_type": "code",
   "execution_count": 2,
   "metadata": {},
   "outputs": [
    {
     "ename": "LoadError",
     "evalue": "DomainError with 0:\nargument must be nonzero",
     "output_type": "error",
     "traceback": [
      "DomainError with 0:\nargument must be nonzero",
      "",
      "Stacktrace:",
      " [1] real_roots_of_quadratic(a::Int64, b::Int64, c::Int64)",
      "   @ Main .\\In[2]:9",
      " [2] top-level scope",
      "   @ In[2]:28"
     ]
    }
   ],
   "source": [
    "function real_roots_of_quadratic(a::Number, b::Number, c::Number)\n",
    "\n",
    "    #Start by initializing an empty array\n",
    "    roots::Array{Float64} = []\n",
    "\n",
    "    #Compute the discriminant \n",
    "    Δ = b^2 - 4a*c #\\Delta + [TAB]\n",
    "    \n",
    "    a == 0 && throw(DomainError(a, \"argument must be nonzero\"))\n",
    "\n",
    "    #Error Check to ensure equation is actually quadratic\n",
    "    if a == 0\n",
    "        return \"Error - this is not a quadratic equation\"\n",
    "    end\n",
    "\n",
    "    #Based on the sign of the discriminant return 0, 1, or 2 roots.\n",
    "    if Δ < 0 \n",
    "        roots = []\n",
    "    elseif Δ == 0\n",
    "        roots = [-b/(2a)]\n",
    "    else\n",
    "        roots = [-b + √Δ, -b - √Δ] / (2a) #\\sqrt + [TAB]\n",
    "    end\n",
    "    return roots \n",
    "end\n",
    "\n",
    "#Attempting on -x²+5x-6=0\n",
    "real_roots_of_quadratic(0,5,-6)"
   ]
  },
  {
   "cell_type": "markdown",
   "metadata": {},
   "source": [
    "---"
   ]
  },
  {
   "cell_type": "markdown",
   "metadata": {},
   "source": [
    " ## 2b:"
   ]
  },
  {
   "cell_type": "markdown",
   "metadata": {},
   "source": [
    "#### 2b.1:"
   ]
  },
  {
   "cell_type": "code",
   "execution_count": 3,
   "metadata": {},
   "outputs": [
    {
     "name": "stdout",
     "output_type": "stream",
     "text": [
      "The equation 1x² + -5x + 6 = 0 has the real roots 3.0 and 2.0\n",
      "The equation 1x² + 2x + 3 = 0 has no real roots.\n",
      "The equation 1x² + 7x + 0 = 0 has the real roots 0.0 and -7.0\n",
      "The equation 4x² + 26x + 12 = 0 has the real roots -0.5 and -6.0\n",
      "The equation -1x² + 4x + 5 = 0 has the real roots -1.0 and 5.0\n"
     ]
    }
   ],
   "source": [
    "function real_roots_of_quadratic(a::Number, b::Number, c::Number)\n",
    "\n",
    "    #Start by initializing an empty array\n",
    "    roots::Array{Float64} = []\n",
    "\n",
    "    #Compute the discriminant \n",
    "    Δ = b^2 - 4a*c #\\Delta + [TAB]\n",
    "\n",
    "    #Based on the sign of the discriminant return 0, 1, or 2 roots.\n",
    "    if Δ < 0 \n",
    "        roots = []\n",
    "    elseif Δ == 0\n",
    "        roots = [-b/(2a)]\n",
    "    else\n",
    "        roots = [-b + √Δ, -b - √Δ] / (2a) #\\sqrt + [TAB]\n",
    "    end\n",
    "    return roots \n",
    "end\n",
    "\n",
    "#Attempting on -x²+5x-6=0\n",
    "real_roots_of_quadratic(-1,5,-6)\n",
    "\n",
    "examples = [[1,-5,6], [1,2,3],[1,7,0],[4,26,12], [-1, 4,5]]\n",
    "\n",
    "for example in examples\n",
    "    roots = real_roots_of_quadratic(example[1], example[2], example[3])\n",
    "    print(\"The equation $(example[1])x² + $(example[2])x + $(example[3]) = 0 \") #\\^2 + [TAB] #***\n",
    "    if length(roots) == 0 #***\n",
    "        println(\"has no real roots.\") #***\n",
    "    elseif length(roots) == 1 #***\n",
    "        println(\"has the single (real) root $(roots[1])\") #***\n",
    "    else #***\n",
    "        println(\"has the real roots $(roots[1]) and $(roots[2])\") #***\n",
    "    end #***\n",
    "end"
   ]
  },
  {
   "cell_type": "markdown",
   "metadata": {},
   "source": [
    "#### 2b.2:"
   ]
  },
  {
   "cell_type": "code",
   "execution_count": 4,
   "metadata": {},
   "outputs": [
    {
     "name": "stdout",
     "output_type": "stream",
     "text": [
      "The equation 1x² + -5x + 6 = 0 has the real roots 3.0 and 2.0\n",
      "The equation 1x² + 2x + 3 = 0 has no real roots.\n",
      "The equation 1x² + 7x + 0 = 0 has the real roots 0.0 and -7.0\n",
      "The equation 4x² + 26x + 12 = 0 has the real roots -0.5 and -6.0\n",
      "The equation -1x² + 4x + 5 = 0 has the real roots -1.0 and 5.0\n"
     ]
    }
   ],
   "source": [
    "function real_roots_of_quadratic(a::Number, b::Number, c::Number)\n",
    "\n",
    "    #Start by initializing an empty array\n",
    "    roots::Array{Float64} = []\n",
    "\n",
    "    #Compute the discriminant \n",
    "    Δ = b^2 - 4a*c #\\Delta + [TAB]\n",
    "\n",
    "    #Based on the sign of the discriminant return 0, 1, or 2 roots.\n",
    "    if Δ < 0 \n",
    "        roots = []\n",
    "    elseif Δ == 0\n",
    "        roots = [-b/(2a)]\n",
    "    else\n",
    "        roots = [-b + √Δ, -b - √Δ] / (2a) #\\sqrt + [TAB]\n",
    "    end\n",
    "    return roots \n",
    "end\n",
    "\n",
    "#Attempting on -x²+5x-6=0\n",
    "real_roots_of_quadratic(-1,5,-6)\n",
    "\n",
    "examples = [[1,-5,6], [1,2,3],[1,7,0],[4,26,12], [-1, 4,5]]\n",
    "\n",
    "\n",
    "#displays how many real roots a quadratic equation has and what they are\n",
    "function print_quadratic_roots(coefficients, roots)\n",
    "    print(\"The equation $(coefficients[1])x² + $(coefficients[2])x + $(coefficients[3]) = 0 \")\n",
    "    if length(roots) == 0\n",
    "        println(\"has no real roots.\")\n",
    "    elseif length(roots) == 1 \n",
    "        println(\"has the single (real) root $(roots[1])\")\n",
    "    else \n",
    "        println(\"has the real roots $(roots[1]) and $(roots[2])\")\n",
    "    end\n",
    "    return nothing \n",
    "end\n",
    "\n",
    "for example in examples\n",
    "    roots = real_roots_of_quadratic(example[1], example[2], example[3])\n",
    "    coefficients = [example[1], example[2], example[3]]\n",
    "    \n",
    "    print_quadratic_roots(coefficients, roots)\n",
    "end"
   ]
  },
  {
   "cell_type": "markdown",
   "metadata": {},
   "source": [
    "#### 2b.3:"
   ]
  },
  {
   "cell_type": "code",
   "execution_count": 16,
   "metadata": {},
   "outputs": [
    {
     "name": "stdout",
     "output_type": "stream",
     "text": [
      "The equation x² - x = 0 has the real roots 1.0 and 0.0\n",
      "The equation x² + 2x +  3 = 0 has no real roots.\n",
      "The equation x² + 7x = 0 has the real roots 0.0 and -7.0\n",
      "The equation 4x² + 26x +  12 = 0 has the real roots -0.5 and -6.0\n",
      "The equation -x² + 4x +  5 = 0 has the real roots -1.0 and 5.0\n"
     ]
    }
   ],
   "source": [
    "function real_roots_of_quadratic(a::Number, b::Number, c::Number)\n",
    "\n",
    "    #Start by initializing an empty array\n",
    "    roots::Array{Float64} = []\n",
    "\n",
    "    #Compute the discriminant \n",
    "    Δ = b^2 - 4a*c #\\Delta + [TAB]\n",
    "\n",
    "    #Based on the sign of the discriminant return 0, 1, or 2 roots.\n",
    "    if Δ < 0 \n",
    "        roots = []\n",
    "    elseif Δ == 0\n",
    "        roots = [-b/(2a)]\n",
    "    else\n",
    "        roots = [-b + √Δ, -b - √Δ] / (2a) #\\sqrt + [TAB]\n",
    "    end\n",
    "    return roots \n",
    "end\n",
    "\n",
    "\n",
    "examples = [[1,-1,0], [1,2,3],[1,7,0],[4,26,12], [-1, 4,5]]\n",
    "\n",
    "#displays how many real roots a quadratic equation has and what they are\n",
    "function print_quadratic_roots(coefficients, roots)\n",
    "    \n",
    "   \n",
    "    #check first coefficient\n",
    "    coefficients[1] == 1 ? print(\"The equation x²\") :\n",
    "    coefficients[1] == -1 ? print(\"The equation -x²\") :\n",
    "    print(\"The equation $(coefficients[1])x²\")\n",
    "    \n",
    "    #check second coefficient\n",
    "    coefficients[2] == 1 ? print(\" + x\") :\n",
    "    coefficients[2] == -1 ? print(\" - x\") :\n",
    "    coefficients[2] == 0 ? print(\"\") :\n",
    "    print(\" + $(coefficients[2])x\")\n",
    "\n",
    "    #check third coefficient\n",
    "    coefficients[3] == 0 ? print(\" = 0\") : print(\" +  $(coefficients[3]) = 0\")\n",
    "    \n",
    "    \n",
    "    length(roots) == 0 ? println(\" has no real roots.\") :\n",
    "    length(roots) == 1 ? println(\" has the single (real) root $(roots[1])\") :\n",
    "    println(\" has the real roots $(roots[1]) and $(roots[2])\")\n",
    "    \n",
    "    return nothing \n",
    "end\n",
    "\n",
    "\n",
    "for example in examples\n",
    "    roots = real_roots_of_quadratic(example[1], example[2], example[3])\n",
    "    coefficients = [example[1], example[2], example[3]]\n",
    "    \n",
    "    print_quadratic_roots(coefficients, roots)\n",
    "end"
   ]
  },
  {
   "cell_type": "markdown",
   "metadata": {},
   "source": [
    "## 2c:"
   ]
  },
  {
   "cell_type": "markdown",
   "metadata": {},
   "source": [
    "#### 2c.1:"
   ]
  },
  {
   "cell_type": "markdown",
   "metadata": {},
   "source": [
    "*2000rand(3) .- 1000* \n",
    "The rand(3) generates 3 random numbers between 0 and 1. Each number is then multiplied by 2000 and 1000 is subtracted from it resulting in a random number in the set[-1000,1000]. \n",
    "\n",
    "To be in the range[-5,5], the random number needs to be multiplied by 10 and then have 5 subtracted from it. Thus this could be implemented by *10rand(3) .-5"
   ]
  },
  {
   "cell_type": "markdown",
   "metadata": {},
   "source": [
    "#### 2c.2:"
   ]
  },
  {
   "cell_type": "code",
   "execution_count": 14,
   "metadata": {},
   "outputs": [
    {
     "name": "stdout",
     "output_type": "stream",
     "text": [
      "Test passed\n"
     ]
    }
   ],
   "source": [
    "using Random\n",
    "\"\"\"\n",
    "This function generates `num_tests` random triples of coefficients and checks that the function `real_roots_of_quadratic()` does its job. The return value is `true` if the test passed, otherwise it is `false`.\n",
    "\"\"\"\n",
    "function test_real_roots_of_quadratic(;num_tests = 10000, seed=42, coeff_min = -1000, coeff_max = 2000)\n",
    "    Random.seed!(seed)\n",
    "    test_passed = true\n",
    "\n",
    "    for _ in 1:num_tests\n",
    "        a, b, c = (coeff_min)rand(3) .- (coeff_max) #uniform values in the range [-1000, 1000]\n",
    "        roots = real_roots_of_quadratic(a,b,c)\n",
    "        for x in roots\n",
    "            err = a*x^2 + b*x + c \n",
    "            test_passed = (test_passed && isapprox(err, 0.0, atol = 1e-8)) \n",
    "        end\n",
    "    end\n",
    "    return test_passed\n",
    "end\n",
    "\n",
    "test_real_roots_of_quadratic() ? println(\"Test passed\") : println(\"Test failed\")"
   ]
  },
  {
   "cell_type": "markdown",
   "metadata": {},
   "source": [
    "#### 2c.3:"
   ]
  },
  {
   "cell_type": "markdown",
   "metadata": {},
   "source": [
    "When the test has no real roots, this test still returns test passed. By default, the first for loop executes 10000 times as specified in the argument num_tests of the function (anything after the ; are default values for arguments in the function). \n",
    "\n",
    "In general, the function takes three random coefficients and assigns the variable *roots* to the output of real_roots_of_quadratic. It then substitutes these roots into the quadratic equation in the variable *err* which should give 0 (thus solving the quadratic equation). The is_approx function in Julia then checks that the value for *err* is very close to 0 with a very small tolerance (1e-8). \n",
    "\n",
    "In the case that there are no real roots, the return output of real_roots_of_quadratic is an empty array. So when Julia gets to the second for loop, there are no x's in roots and thus the test_passed variable is not assigned anything new. So when the function is asked to return test_passed, it returns true since, at the start of the function, that is what was assigned to the variable. \n",
    "\n",
    "In the final line, Julia is told that if test_real_roots_of_quadratic() (which is true as explained above) then print *Test passed*. Hence, when the test has no real roots, this function returns test passed.\n"
   ]
  },
  {
   "cell_type": "markdown",
   "metadata": {},
   "source": [
    "#### 2c.4:"
   ]
  },
  {
   "cell_type": "markdown",
   "metadata": {},
   "source": [
    "## Answer 2c.4 here (in place of this comment)\n",
    "\n",
    "help im not creative enough for this shit :*("
   ]
  },
  {
   "cell_type": "markdown",
   "metadata": {},
   "source": [
    "#### 2c.5:"
   ]
  },
  {
   "cell_type": "code",
   "execution_count": 84,
   "metadata": {},
   "outputs": [
    {
     "data": {
      "text/plain": [
       "\"Test Passed\""
      ]
     },
     "execution_count": 84,
     "metadata": {},
     "output_type": "execute_result"
    }
   ],
   "source": [
    "\n",
    "\"\"\"\n",
    "This function generates a number of roots (0,1 or 2) \"num_tests\" times and then finds matching coefficients.\n",
    "\n",
    "It does this from the observation that (x-r1)(x-r2)=0 where r1 and r2 are roots to the quadratic. Expanding gives \n",
    "the expression derived for a, b and c. \n",
    "\n",
    "It then uses these coefficients to test that the real_roots_of_quadratic() does its job and returns \"Test passed\" if it \n",
    "does and \"Test failed\" if false.\n",
    "\n",
    "\"\"\"\n",
    "\n",
    "using Random\n",
    "\n",
    "function test(;num_tests = 10000, seed=0)\n",
    "    Random.seed!(seed)\n",
    "    test_passed = true\n",
    "    num_roots = rand(0:2) #the number of roots is a randomly generated number either 0, 1 or 2\n",
    "    a,b,c = 0,0,0 #initialise starting values\n",
    "    roots = zeros(num_roots) #initialise the empty array of length num_roots\n",
    "    tolerance = 1e-8\n",
    "\n",
    "    for _ in 1:num_tests # test num_test number of times\n",
    "    \n",
    "        for i in 1:num_roots\n",
    "            roots[i] = rand(Float64)\n",
    "        end\n",
    "    \n",
    "        if num_roots == 2 \n",
    "            #an infinite of number of quadratics will have the|se roots -choose a = 1 for simplicity\n",
    "            a,b,c = 1, roots[1] + roots[2], roots[1]roots[2]\n",
    "        \n",
    "        elseif num_roots == 1\n",
    "            a,b,c = 1, -2roots[1], roots[1]^2 #same math as for 2 roots except root 1 = root 2\n",
    "        \n",
    "        else\n",
    "            a,b,c = 1,1,1 #simple way to make discriminate negative\n",
    "        end\n",
    "        \n",
    "    end\n",
    "    \n",
    "    \n",
    "    \n",
    "    if all(abs.((real_roots_of_quadratic(a,b,c)) .- roots).<tolerance)\n",
    "        test_passed = \"Test Passed\"\n",
    "    else\n",
    "        test_passed = \"Test Failed\"\n",
    "    end\n",
    "    return test_passed\n",
    "    \n",
    "    \n",
    "end\n",
    "    \n",
    "\n",
    "test()\n",
    "\n"
   ]
  },
  {
   "cell_type": "markdown",
   "metadata": {},
   "source": [
    "## 2d:"
   ]
  },
  {
   "cell_type": "code",
   "execution_count": 11,
   "metadata": {},
   "outputs": [
    {
     "data": {
      "text/plain": [
       "2-element Vector{ComplexF64}:\n",
       " -1.0 + 1.4142135623730951im\n",
       " -1.0 - 1.4142135623730951im"
      ]
     },
     "execution_count": 11,
     "metadata": {},
     "output_type": "execute_result"
    }
   ],
   "source": [
    "function roots_of_quadratic(a::Number, b::Number, c::Number)\n",
    "    roots::Array{ComplexF64} = []\n",
    "    Δ = b^2 - 4a*c\n",
    "    \n",
    "    Δ != 0 ? roots = [-b + √Complex(Δ), -b - √Complex(Δ)] / (2a) : roots = -b/(2a)\n",
    "end\n",
    "\n",
    "roots_of_quadratic(1,2,3)"
   ]
  },
  {
   "cell_type": "markdown",
   "metadata": {},
   "source": [
    "---\n",
    "\n",
    "*Use this area below as an experimental playground for the question. Feel free to leave some of the experimental code here with your submision. However, it will not be marked or reviewed. Make sure in your submission that if there is any experimental code here then running it does not interfere with running the actual solutions.*\n",
    "\n",
    "---"
   ]
  },
  {
   "cell_type": "code",
   "execution_count": null,
   "metadata": {},
   "outputs": [],
   "source": []
  },
  {
   "cell_type": "code",
   "execution_count": null,
   "metadata": {},
   "outputs": [],
   "source": []
  },
  {
   "cell_type": "code",
   "execution_count": null,
   "metadata": {},
   "outputs": [],
   "source": []
  },
  {
   "cell_type": "markdown",
   "metadata": {},
   "source": [
    "# Solution to [Question 3](https://courses.smp.uq.edu.au/MATH2504/2023/assessment_html/bighw.html#q3)"
   ]
  },
  {
   "cell_type": "markdown",
   "metadata": {},
   "source": [
    "#### 3a:"
   ]
  },
  {
   "cell_type": "markdown",
   "metadata": {},
   "source": [
    "the random_binary_string(n = 12) function generates "
   ]
  },
  {
   "cell_type": "markdown",
   "metadata": {},
   "source": [
    "#### 3b:"
   ]
  },
  {
   "cell_type": "code",
   "execution_count": 2,
   "metadata": {},
   "outputs": [],
   "source": [
    "### Answer 3b here (in place of this comment)"
   ]
  },
  {
   "cell_type": "markdown",
   "metadata": {},
   "source": [
    "#### 3c:"
   ]
  },
  {
   "cell_type": "code",
   "execution_count": null,
   "metadata": {},
   "outputs": [],
   "source": [
    "### Answer 3c here (in place of this comment)"
   ]
  },
  {
   "cell_type": "markdown",
   "metadata": {},
   "source": [
    "---\n",
    "\n",
    "*Use this area below as an experimental playground for the question. Feel free to leave some of the experimental code here with your submision. However, it will not be marked or reviewed. Make sure in your submission that if there is any experimental code here then running it does not interfere with running the actual solutions.*\n",
    "\n",
    "---"
   ]
  },
  {
   "cell_type": "code",
   "execution_count": null,
   "metadata": {},
   "outputs": [],
   "source": []
  },
  {
   "cell_type": "code",
   "execution_count": null,
   "metadata": {},
   "outputs": [],
   "source": []
  },
  {
   "cell_type": "code",
   "execution_count": null,
   "metadata": {},
   "outputs": [],
   "source": []
  },
  {
   "cell_type": "markdown",
   "metadata": {},
   "source": [
    "# Solution to [Question 4](https://courses.smp.uq.edu.au/MATH2504/2023/assessment_html/bighw.html#q4)"
   ]
  },
  {
   "cell_type": "markdown",
   "metadata": {},
   "source": [
    "## 4a:"
   ]
  },
  {
   "cell_type": "markdown",
   "metadata": {},
   "source": [
    "The random_binary_string function creates a binary string of length n, which has a default value is 12 unless specified. \n",
    "\n",
    "[rand(['0','1']) for _ in 1:n] uses list comprehension to create an array of n elements. The elements are randomly generated 0s or 1s. The asterisk\n",
    "combines the elements in the array into a single string. r_bin_strs then generates an array with 1000 of these random strings}. \n",
    "\n",
    "Similarly, the random_hex_string function creates a binary string of length n which has a default value of 3. [rand(union('0':'9','A':'F')) for _ in 1:n] also generates an array of n elements, this time randomly selected from the set (0, 9, A, F). The elements of the array concatenate to form a string and then r_hex_strs creates an array with 1000 of these strings. "
   ]
  },
  {
   "cell_type": "markdown",
   "metadata": {},
   "source": [
    "## 4b:"
   ]
  },
  {
   "cell_type": "markdown",
   "metadata": {},
   "source": [
    "The twelve digit binary strings have 2<sup>12</sup> possible arrangements, that is, there are 4096 12 digit binary numbers. Similarly, the three digit hexidecimal strings have 16<sup>3</sup> possible arrangements. \n",
    "\n",
    "A string can be any integer value from 0 to 4095. Since all integers are equally likely, the expected integer value of one string is (0+4095)/2 = 2047.5. There are 1000 strings, thus the expected sum is 2 047 500."
   ]
  },
  {
   "cell_type": "code",
   "execution_count": 1,
   "metadata": {},
   "outputs": [
    {
     "name": "stdout",
     "output_type": "stream",
     "text": [
      "sum_bin = 2001912\n",
      "sum_hex = 2078359\n"
     ]
    }
   ],
   "source": [
    "random_binary_string(n = 12) = *([rand(['0','1']) for _ in 1:n]...)\n",
    "random_hex_string(n=3) = *([rand(union('0':'9','A':'F')) for _ in 1:n]...);\n",
    "\n",
    "using Random\n",
    "Random.seed!(0)\n",
    "r_bin_strs = [random_binary_string() for _ in 1:10^3]\n",
    "r_hex_strs = [random_hex_string() for _ in 1:10^3];\n",
    "\n",
    "bin_ints = [parse(Int, x, base=2) for x in r_bin_strs]\n",
    "hex_ints = [parse(Int, x, base=16) for x in r_hex_strs];\n",
    "\n",
    "#set the current sum to the first integer in the array\n",
    "sum_bin = bin_ints[1]\n",
    "sum_hex = hex_ints[1];\n",
    "\n",
    "for i in 2:1000 #step through each element and add each integer together\n",
    "    sum_bin += bin_ints[i]\n",
    "    sum_hex += hex_ints[i];\n",
    "end\n",
    "\n",
    "@show sum_bin\n",
    "@show sum_hex;"
   ]
  },
  {
   "cell_type": "markdown",
   "metadata": {},
   "source": [
    "## 4c:"
   ]
  },
  {
   "cell_type": "code",
   "execution_count": 6,
   "metadata": {
    "scrolled": true
   },
   "outputs": [
    {
     "name": "stdout",
     "output_type": "stream",
     "text": [
      "2001912\n",
      "2078359\n"
     ]
    }
   ],
   "source": [
    "random_binary_string(n = 12) = *([rand(['0','1']) for _ in 1:n]...)\n",
    "random_hex_string(n=3) = *([rand(union('0':'9','A':'F')) for _ in 1:n]...);\n",
    "\n",
    "using Random\n",
    "Random.seed!(0)\n",
    "r_bin_strs = [random_binary_string() for _ in 1:10^3]\n",
    "r_hex_strs = [random_hex_string() for _ in 1:10^3];\n",
    "\n",
    "#initial two empty arrays for the integers\n",
    "b_int_array =[]\n",
    "h_int_array =[]\n",
    "\n",
    "function bstring_to_int(s::String) #takes a string of binary numbers and turns it into an integer\n",
    "    tot = 0\n",
    "    for i in 1:length(s)\n",
    "        if s[i] == '1' \n",
    "            tot+=2^(length(s)-i)\n",
    "        end\n",
    "    end\n",
    "    return tot\n",
    "end\n",
    "\n",
    "\n",
    "function hstring_to_int(s::String) #takes a string of hexidecimal numbers and turns it into an integer\n",
    "    tot = 0\n",
    "    hex_stuff = collect('0':'9')\n",
    "    for i in 1:length(s)\n",
    "        if s[i] in hex_stuff\n",
    "            tot += (s[i] - '0') * (16^(length(s)-i)) #takes into account offset from ASCII to hex\n",
    "        else\n",
    "          tot += (s[i] - '7') * (16^(length(s)-i)) #takes into account offset from ASCII to hex\n",
    "    \n",
    "        end\n",
    "    end   \n",
    "    return tot\n",
    "end\n",
    "\n",
    "function sum_bin(r_bin_strs) #takes a list of binary strings and adds them together\n",
    "    b_int_array =[]\n",
    "    for string in r_bin_strs\n",
    "        int = bstring_to_int(string)\n",
    "        push!(b_int_array, int)\n",
    "    end\n",
    "    \n",
    "    sum = b_int_array[1]\n",
    "    for i in 2:length(b_int_array)\n",
    "        sum += b_int_array[i]\n",
    "    end\n",
    "    \n",
    "    return sum\n",
    "end\n",
    "\n",
    "function sum_hex(r_hex_strs) #takes a list of hex strings and adds them together\n",
    "    for string in r_hex_strs\n",
    "        int = hstring_to_int(string)\n",
    "        push!(h_int_array, int)\n",
    "    end\n",
    "    \n",
    "    sum = h_int_array[1]\n",
    "    for i in 2:length(h_int_array)\n",
    "        sum += h_int_array[i]\n",
    "    end\n",
    "    \n",
    "    return sum\n",
    "end\n",
    "\n",
    "\n",
    "println(sum_bin(r_bin_strs))\n",
    "println(sum_hex(r_hex_strs)) #this output is too low and idk why :("
   ]
  },
  {
   "cell_type": "markdown",
   "metadata": {},
   "source": [
    "---\n",
    "\n",
    "*Use this area below as an experimental playground for the question. Feel free to leave some of the experimental code here with your submision. However, it will not be marked or reviewed. Make sure in your submission that if there is any experimental code here then running it does not interfere with running the actual solutions.*\n",
    "\n",
    "---"
   ]
  },
  {
   "cell_type": "code",
   "execution_count": null,
   "metadata": {},
   "outputs": [],
   "source": []
  },
  {
   "cell_type": "code",
   "execution_count": null,
   "metadata": {},
   "outputs": [],
   "source": []
  },
  {
   "cell_type": "code",
   "execution_count": null,
   "metadata": {},
   "outputs": [],
   "source": []
  }
 ],
 "metadata": {
  "kernelspec": {
   "display_name": "Julia 1.9.2",
   "language": "julia",
   "name": "julia-1.9"
  },
  "language_info": {
   "file_extension": ".jl",
   "mimetype": "application/julia",
   "name": "julia",
   "version": "1.9.2"
  }
 },
 "nbformat": 4,
 "nbformat_minor": 4
}
