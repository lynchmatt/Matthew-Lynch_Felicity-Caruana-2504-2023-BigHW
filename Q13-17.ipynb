{
 "cells": [
  {
   "cell_type": "markdown",
   "metadata": {},
   "source": [
    "### MATH2504 S2, 2023, BigHW Submission \n",
    "### Submission form IV of IV "
   ]
  },
  {
   "cell_type": "markdown",
   "metadata": {},
   "source": [
    "Student #1 name:\n",
    "\n",
    "Student #1 ID:\n",
    "\n",
    "Student #2 name:\n",
    "\n",
    "Student #2 ID:\n",
    "\n",
    "GitHub repo: "
   ]
  },
  {
   "cell_type": "markdown",
   "metadata": {},
   "source": [
    "---\n",
    "\n",
    "**Note: It is expected that this notebook be runnable in the sense that the marker can select \"Restart & Run All\" and all code cells of solutions will execute. This requires not to have name clashes between solutions.**\n",
    "\n",
    "---"
   ]
  },
  {
   "cell_type": "markdown",
   "metadata": {},
   "source": [
    "# Solution to [Question 13](https://courses.smp.uq.edu.au/MATH2504/2023/assessment_html/bighw.html#q13)"
   ]
  },
  {
   "cell_type": "markdown",
   "metadata": {},
   "source": [
    "## 13a:"
   ]
  },
  {
   "cell_type": "code",
   "execution_count": 1,
   "metadata": {},
   "outputs": [],
   "source": [
    "### Answer 13a here (in place of this comment)"
   ]
  },
  {
   "cell_type": "markdown",
   "metadata": {},
   "source": [
    "## 13b:"
   ]
  },
  {
   "cell_type": "code",
   "execution_count": null,
   "metadata": {},
   "outputs": [],
   "source": [
    "# Convert to a markdown cell and answer 13b here (in place of this comment)"
   ]
  },
  {
   "cell_type": "markdown",
   "metadata": {},
   "source": [
    "## 13c:"
   ]
  },
  {
   "cell_type": "code",
   "execution_count": null,
   "metadata": {},
   "outputs": [],
   "source": [
    "### Answer 13b here (in place of this comment)"
   ]
  },
  {
   "cell_type": "markdown",
   "metadata": {},
   "source": [
    "---\n",
    "\n",
    "*Use this area below as an experimental playground for the question. Feel free to leave some of the experimental code here with your submision. However, it will not be marked or reviewed. Make sure in your submission that if there is any experimental code here then running it does not interfere with running the actual solutions.*\n",
    "\n",
    "---"
   ]
  },
  {
   "cell_type": "code",
   "execution_count": null,
   "metadata": {},
   "outputs": [],
   "source": []
  },
  {
   "cell_type": "code",
   "execution_count": null,
   "metadata": {},
   "outputs": [],
   "source": []
  },
  {
   "cell_type": "code",
   "execution_count": null,
   "metadata": {},
   "outputs": [],
   "source": []
  },
  {
   "cell_type": "markdown",
   "metadata": {},
   "source": [
    "# Solution to [Question 14](https://courses.smp.uq.edu.au/MATH2504/2023/assessment_html/bighw.html#q14)"
   ]
  },
  {
   "cell_type": "code",
   "execution_count": null,
   "metadata": {},
   "outputs": [],
   "source": [
    "### Answer 14 here (in place of this comment)"
   ]
  },
  {
   "cell_type": "markdown",
   "metadata": {},
   "source": [
    "---\n",
    "\n",
    "*Use this area below as an experimental playground for the question. Feel free to leave some of the experimental code here with your submision. However, it will not be marked or reviewed. Make sure in your submission that if there is any experimental code here then running it does not interfere with running the actual solutions.*\n",
    "\n",
    "---"
   ]
  },
  {
   "cell_type": "code",
   "execution_count": null,
   "metadata": {},
   "outputs": [],
   "source": []
  },
  {
   "cell_type": "code",
   "execution_count": null,
   "metadata": {},
   "outputs": [],
   "source": []
  },
  {
   "cell_type": "code",
   "execution_count": null,
   "metadata": {},
   "outputs": [],
   "source": []
  },
  {
   "cell_type": "markdown",
   "metadata": {},
   "source": [
    "# Solution to [Question 15](https://courses.smp.uq.edu.au/MATH2504/2023/assessment_html/bighw.html#q15)"
   ]
  },
  {
   "cell_type": "markdown",
   "metadata": {},
   "source": [
    "## 15a:"
   ]
  },
  {
   "cell_type": "code",
   "execution_count": 3,
   "metadata": {},
   "outputs": [],
   "source": [
    "#These four convenience functions extract the state variable from the state vector\n",
    "#It is assumed the layout of the vector u is u = [v_x, v_y, x, y]\n",
    "state_v_x(u::Vector{Float64}) = u[1]\n",
    "state_v_y(u::Vector{Float64}) = u[2]\n",
    "state_x(u::Vector{Float64}) = u[3]\n",
    "state_y(u::Vector{Float64}) = u[4]\n",
    "\n",
    "\"\"\"\n",
    "Computes the RHS for the one body problem. \n",
    "\"\"\"\n",
    "function df_dt_one_body(u::Vector{Float64}, t::Float64)::Vector{Float64}\n",
    "    M, G = 1, 1 #We take these constants as normalized. Naturally they would need to be set for physical values.\n",
    "    r = sqrt(state_x(u)^2 + state_y(u)^2)\n",
    "    return [-M*G*state_x(u)/r^3, -M*G*state_y(u)/r^3, state_v_x(u), state_v_y(u)]\n",
    "end;\n",
    "\n",
    "using Plots, Measures\n",
    "\n",
    "function plot_solution( t::AbstractArray{T}, \n",
    "                        u::Vector{Vector{Float64}}; \n",
    "                        title::String = \"\",\n",
    "                        label::Union{String, Bool} = false) where T\n",
    "    x, y, v_x, v_y = state_x.(u), state_y.(u), state_v_x.(u), state_v_y.(u)\n",
    " \n",
    "    #\"Energy\"\n",
    "    r = @. sqrt(x^2 + y^2)\n",
    "    E = @. 0.5*(v_x^2 + v_y^2) - 1.0/r\n",
    "\n",
    "    p1 = plot(  x, y, label = label, xlabel= \"X\", ylabel = \"Y\",\n",
    "                title = title*\" (position)\", aspectratio=1,legend=:topleft,ylim=(-7,7))\n",
    "    scatter!([0], [0], ms=15, msw=0, c=:orange, shape =:star, label=\"Sun\")\n",
    "    scatter!([x[1]], [y[1]], ms=5, msw=0, c=:blue, shape =:circle, label=\"Earth initial position\")\n",
    "\n",
    "    p4 = plot(  t, E, xlabel = \"Time\", ylabel = \"Energy\",\n",
    "                label = label, title = title*\" (energy)\")\n",
    "    plot(p1, p4, margin = 10mm,size=(800,400))\n",
    "end;\n",
    "\n",
    "\n",
    "# Define Euler's method function\n",
    "function euler_next_u(u::Vector{Float64}, h::Float64, t::Float64)\n",
    "    next_u = u + h * df_dt_one_body(u, t)\n",
    "    return next_u\n",
    "end\n",
    "\n",
    "hs = [0.01, 0.001, 0.0001] \n",
    "t_ranges = [0:h:200 for h in hs] \n",
    "\n",
    "u_0 = [0.,1,1.5,0]\n",
    "u = Vector{Vector{Float64}}() #set u to be the same type as observed in the given code\n",
    "\n",
    "for t_range in t_ranges\n",
    "    for h in hs\n",
    "        #### This section works for one step size\n",
    "        for t in t_range\n",
    "            u_0 = euler_next_u(u_0, h, t) #implent Euler's method\n",
    "            push!(u, u_0)\n",
    "        end\n",
    "        plot_solution(t_range, u, title = \"Euler's Method\", label = \"h=$h\")\n",
    "        ####\n",
    "    end\n",
    "end\n"
   ]
  },
  {
   "cell_type": "markdown",
   "metadata": {},
   "source": [
    "## 15b:"
   ]
  },
  {
   "cell_type": "code",
   "execution_count": 10,
   "metadata": {},
   "outputs": [],
   "source": [
    "# Define RK4 method function\n",
    "function RK4_next_u(u::Vector{Float64}, h::Float64, t::Float64)\n",
    "    k1 = df_dt_one_body(u, t)\n",
    "    k2 = df_dt_one_body(u + h*k1/2, t)\n",
    "    k3 = df_dt_one_body(u + h*k2/2, t)\n",
    "    k4 = df_dt_one_body(u + h*k3, t)\n",
    "    \n",
    "    RK4_next_u = u + (h/6) *(k1 +2*k2 + 2*k3 + k4)\n",
    "    return RK4_next_u\n",
    "end\n"
   ]
  },
  {
   "cell_type": "markdown",
   "metadata": {},
   "source": [
    "## 15c:"
   ]
  },
  {
   "cell_type": "code",
   "execution_count": null,
   "metadata": {},
   "outputs": [],
   "source": [
    "### Answer 15c here (in place of this comment)"
   ]
  },
  {
   "cell_type": "markdown",
   "metadata": {},
   "source": [
    "## 15d:"
   ]
  },
  {
   "cell_type": "code",
   "execution_count": null,
   "metadata": {},
   "outputs": [],
   "source": [
    "### Answer 15d here (in place of this comment)"
   ]
  },
  {
   "cell_type": "markdown",
   "metadata": {},
   "source": [
    "---\n",
    "\n",
    "*Use this area below as an experimental playground for the question. Feel free to leave some of the experimental code here with your submision. However, it will not be marked or reviewed. Make sure in your submission that if there is any experimental code here then running it does not interfere with running the actual solutions.*\n",
    "\n",
    "---"
   ]
  },
  {
   "cell_type": "code",
   "execution_count": null,
   "metadata": {},
   "outputs": [],
   "source": []
  },
  {
   "cell_type": "code",
   "execution_count": null,
   "metadata": {},
   "outputs": [],
   "source": []
  },
  {
   "cell_type": "code",
   "execution_count": null,
   "metadata": {},
   "outputs": [],
   "source": []
  },
  {
   "cell_type": "markdown",
   "metadata": {},
   "source": [
    "# Solution to [Question 16](https://courses.smp.uq.edu.au/MATH2504/2023/assessment_html/bighw.html#q16)"
   ]
  },
  {
   "cell_type": "markdown",
   "metadata": {},
   "source": [
    "## 16a:"
   ]
  },
  {
   "cell_type": "code",
   "execution_count": null,
   "metadata": {},
   "outputs": [],
   "source": [
    "### Answer 16a here (in place of this comment)"
   ]
  },
  {
   "cell_type": "markdown",
   "metadata": {},
   "source": [
    "## 16b:"
   ]
  },
  {
   "cell_type": "code",
   "execution_count": null,
   "metadata": {},
   "outputs": [],
   "source": [
    "### Answer 16b here (in place of this comment)"
   ]
  },
  {
   "cell_type": "markdown",
   "metadata": {},
   "source": [
    "## 16c:"
   ]
  },
  {
   "cell_type": "code",
   "execution_count": null,
   "metadata": {},
   "outputs": [],
   "source": [
    "### Answer 16c here (in place of this comment)"
   ]
  },
  {
   "cell_type": "markdown",
   "metadata": {},
   "source": [
    "## 16d:"
   ]
  },
  {
   "cell_type": "code",
   "execution_count": null,
   "metadata": {},
   "outputs": [],
   "source": [
    "### Answer 16d here (in place of this comment)"
   ]
  },
  {
   "cell_type": "markdown",
   "metadata": {},
   "source": [
    "---\n",
    "\n",
    "*Use this area below as an experimental playground for the question. Feel free to leave some of the experimental code here with your submision. However, it will not be marked or reviewed. Make sure in your submission that if there is any experimental code here then running it does not interfere with running the actual solutions.*\n",
    "\n",
    "---"
   ]
  },
  {
   "cell_type": "code",
   "execution_count": null,
   "metadata": {},
   "outputs": [],
   "source": []
  },
  {
   "cell_type": "code",
   "execution_count": null,
   "metadata": {},
   "outputs": [],
   "source": []
  },
  {
   "cell_type": "code",
   "execution_count": null,
   "metadata": {},
   "outputs": [],
   "source": []
  },
  {
   "cell_type": "markdown",
   "metadata": {},
   "source": [
    "# Solution to [Question 17](https://courses.smp.uq.edu.au/MATH2504/2023/assessment_html/bighw.html#q17)"
   ]
  },
  {
   "cell_type": "code",
   "execution_count": null,
   "metadata": {},
   "outputs": [],
   "source": [
    "# Convert this cell to a markdown cell and answer question 17 here in paragraph form."
   ]
  }
 ],
 "metadata": {
  "kernelspec": {
   "display_name": "Julia 1.9.2",
   "language": "julia",
   "name": "julia-1.9"
  },
  "language_info": {
   "file_extension": ".jl",
   "mimetype": "application/julia",
   "name": "julia",
   "version": "1.9.2"
  }
 },
 "nbformat": 4,
 "nbformat_minor": 4
}
